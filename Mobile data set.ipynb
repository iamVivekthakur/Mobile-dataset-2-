{
 "cells": [
  {
   "cell_type": "markdown",
   "id": "55cd454e",
   "metadata": {},
   "source": [
    "# MOBILE DATASET ANALYSIS"
   ]
  },
  {
   "cell_type": "markdown",
   "id": "4965cb25",
   "metadata": {},
   "source": [
    "IMPORTING THE NECCESSARY LIBRARIES FOR ANALYSIS."
   ]
  },
  {
   "cell_type": "code",
   "execution_count": 1,
   "id": "57078ac8",
   "metadata": {},
   "outputs": [],
   "source": [
    "import numpy as np \n",
    "import pandas as pd \n",
    "import matplotlib.pyplot as plt\n",
    "import seaborn as sns\n",
    "import scipy.stats as st\n",
    "import warnings\n",
    "warnings.filterwarnings(\"ignore\")\n",
    "import math"
   ]
  },
  {
   "cell_type": "code",
   "execution_count": 3,
   "id": "b18f56bd",
   "metadata": {},
   "outputs": [
    {
     "data": {
      "text/html": [
       "<div>\n",
       "<style scoped>\n",
       "    .dataframe tbody tr th:only-of-type {\n",
       "        vertical-align: middle;\n",
       "    }\n",
       "\n",
       "    .dataframe tbody tr th {\n",
       "        vertical-align: top;\n",
       "    }\n",
       "\n",
       "    .dataframe thead th {\n",
       "        text-align: right;\n",
       "    }\n",
       "</style>\n",
       "<table border=\"1\" class=\"dataframe\">\n",
       "  <thead>\n",
       "    <tr style=\"text-align: right;\">\n",
       "      <th></th>\n",
       "      <th>brand</th>\n",
       "      <th>model</th>\n",
       "      <th>base_color</th>\n",
       "      <th>processor</th>\n",
       "      <th>screen_size</th>\n",
       "      <th>ROM</th>\n",
       "      <th>RAM</th>\n",
       "      <th>display_size</th>\n",
       "      <th>num_rear_camera</th>\n",
       "      <th>num_front_camera</th>\n",
       "      <th>battery_capacity</th>\n",
       "      <th>ratings</th>\n",
       "      <th>num_of_ratings</th>\n",
       "      <th>sales_price</th>\n",
       "      <th>discount_percent</th>\n",
       "      <th>sales</th>\n",
       "    </tr>\n",
       "  </thead>\n",
       "  <tbody>\n",
       "    <tr>\n",
       "      <th>0</th>\n",
       "      <td>Apple</td>\n",
       "      <td>iPhone SE</td>\n",
       "      <td>Black</td>\n",
       "      <td>Water</td>\n",
       "      <td>Very Small</td>\n",
       "      <td>64</td>\n",
       "      <td>2</td>\n",
       "      <td>4.7</td>\n",
       "      <td>1</td>\n",
       "      <td>1</td>\n",
       "      <td>1800</td>\n",
       "      <td>4.5</td>\n",
       "      <td>38645</td>\n",
       "      <td>32999</td>\n",
       "      <td>0.17</td>\n",
       "      <td>127.52</td>\n",
       "    </tr>\n",
       "    <tr>\n",
       "      <th>1</th>\n",
       "      <td>Apple</td>\n",
       "      <td>iPhone 12 Mini</td>\n",
       "      <td>Red</td>\n",
       "      <td>Ceramic</td>\n",
       "      <td>Small</td>\n",
       "      <td>64</td>\n",
       "      <td>4</td>\n",
       "      <td>5.4</td>\n",
       "      <td>2</td>\n",
       "      <td>1</td>\n",
       "      <td>2815</td>\n",
       "      <td>4.5</td>\n",
       "      <td>244</td>\n",
       "      <td>57149</td>\n",
       "      <td>0.04</td>\n",
       "      <td>1.39</td>\n",
       "    </tr>\n",
       "    <tr>\n",
       "      <th>2</th>\n",
       "      <td>Apple</td>\n",
       "      <td>iPhone SE</td>\n",
       "      <td>Red</td>\n",
       "      <td>Water</td>\n",
       "      <td>Very Small</td>\n",
       "      <td>64</td>\n",
       "      <td>2</td>\n",
       "      <td>4.7</td>\n",
       "      <td>1</td>\n",
       "      <td>1</td>\n",
       "      <td>1800</td>\n",
       "      <td>4.5</td>\n",
       "      <td>38645</td>\n",
       "      <td>32999</td>\n",
       "      <td>0.17</td>\n",
       "      <td>127.52</td>\n",
       "    </tr>\n",
       "    <tr>\n",
       "      <th>3</th>\n",
       "      <td>Apple</td>\n",
       "      <td>iPhone XR</td>\n",
       "      <td>Others</td>\n",
       "      <td>iOS</td>\n",
       "      <td>Medium</td>\n",
       "      <td>64</td>\n",
       "      <td>3</td>\n",
       "      <td>6.1</td>\n",
       "      <td>1</td>\n",
       "      <td>1</td>\n",
       "      <td>2942</td>\n",
       "      <td>4.6</td>\n",
       "      <td>5366</td>\n",
       "      <td>42999</td>\n",
       "      <td>0.10</td>\n",
       "      <td>23.07</td>\n",
       "    </tr>\n",
       "    <tr>\n",
       "      <th>4</th>\n",
       "      <td>Apple</td>\n",
       "      <td>iPhone 12</td>\n",
       "      <td>Red</td>\n",
       "      <td>Ceramic</td>\n",
       "      <td>Medium</td>\n",
       "      <td>128</td>\n",
       "      <td>4</td>\n",
       "      <td>6.1</td>\n",
       "      <td>2</td>\n",
       "      <td>1</td>\n",
       "      <td>2815</td>\n",
       "      <td>4.6</td>\n",
       "      <td>745</td>\n",
       "      <td>69149</td>\n",
       "      <td>0.02</td>\n",
       "      <td>5.15</td>\n",
       "    </tr>\n",
       "    <tr>\n",
       "      <th>...</th>\n",
       "      <td>...</td>\n",
       "      <td>...</td>\n",
       "      <td>...</td>\n",
       "      <td>...</td>\n",
       "      <td>...</td>\n",
       "      <td>...</td>\n",
       "      <td>...</td>\n",
       "      <td>...</td>\n",
       "      <td>...</td>\n",
       "      <td>...</td>\n",
       "      <td>...</td>\n",
       "      <td>...</td>\n",
       "      <td>...</td>\n",
       "      <td>...</td>\n",
       "      <td>...</td>\n",
       "      <td>...</td>\n",
       "    </tr>\n",
       "    <tr>\n",
       "      <th>425</th>\n",
       "      <td>Xiaomi</td>\n",
       "      <td>Redmi 6 Pro</td>\n",
       "      <td>Black</td>\n",
       "      <td>Qualcomm</td>\n",
       "      <td>Small</td>\n",
       "      <td>32</td>\n",
       "      <td>3</td>\n",
       "      <td>5.8</td>\n",
       "      <td>2</td>\n",
       "      <td>1</td>\n",
       "      <td>4000</td>\n",
       "      <td>4.3</td>\n",
       "      <td>1870</td>\n",
       "      <td>7999</td>\n",
       "      <td>0.30</td>\n",
       "      <td>1.50</td>\n",
       "    </tr>\n",
       "    <tr>\n",
       "      <th>426</th>\n",
       "      <td>Xiaomi</td>\n",
       "      <td>Redmi 6 Pro</td>\n",
       "      <td>Red</td>\n",
       "      <td>Qualcomm</td>\n",
       "      <td>Small</td>\n",
       "      <td>64</td>\n",
       "      <td>4</td>\n",
       "      <td>5.8</td>\n",
       "      <td>2</td>\n",
       "      <td>1</td>\n",
       "      <td>4000</td>\n",
       "      <td>4.3</td>\n",
       "      <td>1783</td>\n",
       "      <td>9699</td>\n",
       "      <td>0.28</td>\n",
       "      <td>1.73</td>\n",
       "    </tr>\n",
       "    <tr>\n",
       "      <th>427</th>\n",
       "      <td>Xiaomi</td>\n",
       "      <td>Mi 11 Lite</td>\n",
       "      <td>Others</td>\n",
       "      <td>Qualcomm</td>\n",
       "      <td>Large</td>\n",
       "      <td>128</td>\n",
       "      <td>6</td>\n",
       "      <td>6.5</td>\n",
       "      <td>3</td>\n",
       "      <td>1</td>\n",
       "      <td>4250</td>\n",
       "      <td>4.2</td>\n",
       "      <td>1554</td>\n",
       "      <td>21999</td>\n",
       "      <td>0.12</td>\n",
       "      <td>3.42</td>\n",
       "    </tr>\n",
       "    <tr>\n",
       "      <th>428</th>\n",
       "      <td>Xiaomi</td>\n",
       "      <td>Redmi 8A Dual</td>\n",
       "      <td>Blue</td>\n",
       "      <td>Qualcomm</td>\n",
       "      <td>Medium</td>\n",
       "      <td>32</td>\n",
       "      <td>3</td>\n",
       "      <td>6.2</td>\n",
       "      <td>2</td>\n",
       "      <td>1</td>\n",
       "      <td>5000</td>\n",
       "      <td>4.2</td>\n",
       "      <td>8161</td>\n",
       "      <td>8299</td>\n",
       "      <td>0.07</td>\n",
       "      <td>6.77</td>\n",
       "    </tr>\n",
       "    <tr>\n",
       "      <th>429</th>\n",
       "      <td>Xiaomi</td>\n",
       "      <td>Redmi 6 Pro</td>\n",
       "      <td>Blue</td>\n",
       "      <td>Qualcomm</td>\n",
       "      <td>Small</td>\n",
       "      <td>32</td>\n",
       "      <td>3</td>\n",
       "      <td>5.8</td>\n",
       "      <td>2</td>\n",
       "      <td>1</td>\n",
       "      <td>4000</td>\n",
       "      <td>4.3</td>\n",
       "      <td>1870</td>\n",
       "      <td>8190</td>\n",
       "      <td>0.36</td>\n",
       "      <td>1.53</td>\n",
       "    </tr>\n",
       "  </tbody>\n",
       "</table>\n",
       "<p>430 rows × 16 columns</p>\n",
       "</div>"
      ],
      "text/plain": [
       "      brand           model base_color processor screen_size  ROM  RAM  \\\n",
       "0     Apple       iPhone SE      Black     Water  Very Small   64    2   \n",
       "1     Apple  iPhone 12 Mini        Red   Ceramic       Small   64    4   \n",
       "2     Apple       iPhone SE        Red     Water  Very Small   64    2   \n",
       "3     Apple       iPhone XR     Others       iOS      Medium   64    3   \n",
       "4     Apple       iPhone 12        Red   Ceramic      Medium  128    4   \n",
       "..      ...             ...        ...       ...         ...  ...  ...   \n",
       "425  Xiaomi     Redmi 6 Pro      Black  Qualcomm       Small   32    3   \n",
       "426  Xiaomi     Redmi 6 Pro        Red  Qualcomm       Small   64    4   \n",
       "427  Xiaomi      Mi 11 Lite     Others  Qualcomm       Large  128    6   \n",
       "428  Xiaomi   Redmi 8A Dual       Blue  Qualcomm      Medium   32    3   \n",
       "429  Xiaomi     Redmi 6 Pro       Blue  Qualcomm       Small   32    3   \n",
       "\n",
       "     display_size  num_rear_camera  num_front_camera  battery_capacity  \\\n",
       "0             4.7                1                 1              1800   \n",
       "1             5.4                2                 1              2815   \n",
       "2             4.7                1                 1              1800   \n",
       "3             6.1                1                 1              2942   \n",
       "4             6.1                2                 1              2815   \n",
       "..            ...              ...               ...               ...   \n",
       "425           5.8                2                 1              4000   \n",
       "426           5.8                2                 1              4000   \n",
       "427           6.5                3                 1              4250   \n",
       "428           6.2                2                 1              5000   \n",
       "429           5.8                2                 1              4000   \n",
       "\n",
       "     ratings  num_of_ratings  sales_price  discount_percent   sales  \n",
       "0        4.5           38645        32999              0.17  127.52  \n",
       "1        4.5             244        57149              0.04    1.39  \n",
       "2        4.5           38645        32999              0.17  127.52  \n",
       "3        4.6            5366        42999              0.10   23.07  \n",
       "4        4.6             745        69149              0.02    5.15  \n",
       "..       ...             ...          ...               ...     ...  \n",
       "425      4.3            1870         7999              0.30    1.50  \n",
       "426      4.3            1783         9699              0.28    1.73  \n",
       "427      4.2            1554        21999              0.12    3.42  \n",
       "428      4.2            8161         8299              0.07    6.77  \n",
       "429      4.3            1870         8190              0.36    1.53  \n",
       "\n",
       "[430 rows x 16 columns]"
      ]
     },
     "execution_count": 3,
     "metadata": {},
     "output_type": "execute_result"
    }
   ],
   "source": [
    "df=pd.read_csv(\"C:/Users/user/OneDrive/Desktop/madrid software/cleaned dataset/Mobile dataset.csv\")\n",
    "df"
   ]
  },
  {
   "cell_type": "code",
   "execution_count": 3,
   "id": "a6179eeb",
   "metadata": {},
   "outputs": [
    {
     "data": {
      "text/plain": [
       "(430, 16)"
      ]
     },
     "execution_count": 3,
     "metadata": {},
     "output_type": "execute_result"
    }
   ],
   "source": [
    "df.shape"
   ]
  },
  {
   "cell_type": "code",
   "execution_count": 4,
   "id": "d57f145e",
   "metadata": {},
   "outputs": [
    {
     "name": "stdout",
     "output_type": "stream",
     "text": [
      "<class 'pandas.core.frame.DataFrame'>\n",
      "RangeIndex: 430 entries, 0 to 429\n",
      "Data columns (total 16 columns):\n",
      " #   Column            Non-Null Count  Dtype  \n",
      "---  ------            --------------  -----  \n",
      " 0   brand             430 non-null    object \n",
      " 1   model             430 non-null    object \n",
      " 2   base_color        430 non-null    object \n",
      " 3   processor         430 non-null    object \n",
      " 4   screen_size       430 non-null    object \n",
      " 5   ROM               430 non-null    int64  \n",
      " 6   RAM               430 non-null    int64  \n",
      " 7   display_size      430 non-null    float64\n",
      " 8   num_rear_camera   430 non-null    int64  \n",
      " 9   num_front_camera  430 non-null    int64  \n",
      " 10  battery_capacity  430 non-null    int64  \n",
      " 11  ratings           430 non-null    float64\n",
      " 12  num_of_ratings    430 non-null    int64  \n",
      " 13  sales_price       430 non-null    int64  \n",
      " 14  discount_percent  430 non-null    float64\n",
      " 15  sales             430 non-null    float64\n",
      "dtypes: float64(4), int64(7), object(5)\n",
      "memory usage: 53.9+ KB\n"
     ]
    }
   ],
   "source": [
    "df.info()"
   ]
  },
  {
   "cell_type": "markdown",
   "id": "1f9d3d14",
   "metadata": {},
   "source": [
    "# Since there is no null value in the data so we can proceed further to do some test statistics based on the data available."
   ]
  },
  {
   "cell_type": "code",
   "execution_count": 5,
   "id": "0216b68a",
   "metadata": {},
   "outputs": [
    {
     "data": {
      "text/html": [
       "<div>\n",
       "<style scoped>\n",
       "    .dataframe tbody tr th:only-of-type {\n",
       "        vertical-align: middle;\n",
       "    }\n",
       "\n",
       "    .dataframe tbody tr th {\n",
       "        vertical-align: top;\n",
       "    }\n",
       "\n",
       "    .dataframe thead th {\n",
       "        text-align: right;\n",
       "    }\n",
       "</style>\n",
       "<table border=\"1\" class=\"dataframe\">\n",
       "  <thead>\n",
       "    <tr style=\"text-align: right;\">\n",
       "      <th></th>\n",
       "      <th>count</th>\n",
       "      <th>mean</th>\n",
       "      <th>std</th>\n",
       "      <th>min</th>\n",
       "      <th>25%</th>\n",
       "      <th>50%</th>\n",
       "      <th>75%</th>\n",
       "      <th>max</th>\n",
       "    </tr>\n",
       "  </thead>\n",
       "  <tbody>\n",
       "    <tr>\n",
       "      <th>ROM</th>\n",
       "      <td>430.0</td>\n",
       "      <td>105.748837</td>\n",
       "      <td>63.164064</td>\n",
       "      <td>8.0</td>\n",
       "      <td>64.0</td>\n",
       "      <td>128.0</td>\n",
       "      <td>128.00</td>\n",
       "      <td>512.0</td>\n",
       "    </tr>\n",
       "    <tr>\n",
       "      <th>RAM</th>\n",
       "      <td>430.0</td>\n",
       "      <td>5.320930</td>\n",
       "      <td>2.182635</td>\n",
       "      <td>1.0</td>\n",
       "      <td>4.0</td>\n",
       "      <td>4.0</td>\n",
       "      <td>6.00</td>\n",
       "      <td>12.0</td>\n",
       "    </tr>\n",
       "    <tr>\n",
       "      <th>num_rear_camera</th>\n",
       "      <td>430.0</td>\n",
       "      <td>2.904651</td>\n",
       "      <td>0.952350</td>\n",
       "      <td>1.0</td>\n",
       "      <td>2.0</td>\n",
       "      <td>3.0</td>\n",
       "      <td>4.00</td>\n",
       "      <td>4.0</td>\n",
       "    </tr>\n",
       "    <tr>\n",
       "      <th>num_front_camera</th>\n",
       "      <td>430.0</td>\n",
       "      <td>1.044186</td>\n",
       "      <td>0.227280</td>\n",
       "      <td>1.0</td>\n",
       "      <td>1.0</td>\n",
       "      <td>1.0</td>\n",
       "      <td>1.00</td>\n",
       "      <td>3.0</td>\n",
       "    </tr>\n",
       "    <tr>\n",
       "      <th>battery_capacity</th>\n",
       "      <td>430.0</td>\n",
       "      <td>4529.397674</td>\n",
       "      <td>986.907252</td>\n",
       "      <td>1800.0</td>\n",
       "      <td>4000.0</td>\n",
       "      <td>4500.0</td>\n",
       "      <td>5000.00</td>\n",
       "      <td>7000.0</td>\n",
       "    </tr>\n",
       "    <tr>\n",
       "      <th>num_of_ratings</th>\n",
       "      <td>430.0</td>\n",
       "      <td>23567.944186</td>\n",
       "      <td>56096.277784</td>\n",
       "      <td>4.0</td>\n",
       "      <td>745.0</td>\n",
       "      <td>5197.5</td>\n",
       "      <td>21089.25</td>\n",
       "      <td>642373.0</td>\n",
       "    </tr>\n",
       "    <tr>\n",
       "      <th>sales_price</th>\n",
       "      <td>430.0</td>\n",
       "      <td>25433.234884</td>\n",
       "      <td>22471.926588</td>\n",
       "      <td>5742.0</td>\n",
       "      <td>11999.0</td>\n",
       "      <td>16989.5</td>\n",
       "      <td>28999.00</td>\n",
       "      <td>157999.0</td>\n",
       "    </tr>\n",
       "  </tbody>\n",
       "</table>\n",
       "</div>"
      ],
      "text/plain": [
       "                  count          mean           std     min      25%      50%  \\\n",
       "ROM               430.0    105.748837     63.164064     8.0     64.0    128.0   \n",
       "RAM               430.0      5.320930      2.182635     1.0      4.0      4.0   \n",
       "num_rear_camera   430.0      2.904651      0.952350     1.0      2.0      3.0   \n",
       "num_front_camera  430.0      1.044186      0.227280     1.0      1.0      1.0   \n",
       "battery_capacity  430.0   4529.397674    986.907252  1800.0   4000.0   4500.0   \n",
       "num_of_ratings    430.0  23567.944186  56096.277784     4.0    745.0   5197.5   \n",
       "sales_price       430.0  25433.234884  22471.926588  5742.0  11999.0  16989.5   \n",
       "\n",
       "                       75%       max  \n",
       "ROM                 128.00     512.0  \n",
       "RAM                   6.00      12.0  \n",
       "num_rear_camera       4.00       4.0  \n",
       "num_front_camera      1.00       3.0  \n",
       "battery_capacity   5000.00    7000.0  \n",
       "num_of_ratings    21089.25  642373.0  \n",
       "sales_price       28999.00  157999.0  "
      ]
     },
     "execution_count": 5,
     "metadata": {},
     "output_type": "execute_result"
    }
   ],
   "source": [
    "df.describe(include=\"int\").T"
   ]
  },
  {
   "cell_type": "code",
   "execution_count": 6,
   "id": "4671bec6",
   "metadata": {},
   "outputs": [
    {
     "data": {
      "text/html": [
       "<div>\n",
       "<style scoped>\n",
       "    .dataframe tbody tr th:only-of-type {\n",
       "        vertical-align: middle;\n",
       "    }\n",
       "\n",
       "    .dataframe tbody tr th {\n",
       "        vertical-align: top;\n",
       "    }\n",
       "\n",
       "    .dataframe thead th {\n",
       "        text-align: right;\n",
       "    }\n",
       "</style>\n",
       "<table border=\"1\" class=\"dataframe\">\n",
       "  <thead>\n",
       "    <tr style=\"text-align: right;\">\n",
       "      <th></th>\n",
       "      <th>count</th>\n",
       "      <th>mean</th>\n",
       "      <th>std</th>\n",
       "      <th>min</th>\n",
       "      <th>25%</th>\n",
       "      <th>50%</th>\n",
       "      <th>75%</th>\n",
       "      <th>max</th>\n",
       "    </tr>\n",
       "  </thead>\n",
       "  <tbody>\n",
       "    <tr>\n",
       "      <th>display_size</th>\n",
       "      <td>430.0</td>\n",
       "      <td>6.369767</td>\n",
       "      <td>0.369549</td>\n",
       "      <td>4.70</td>\n",
       "      <td>6.30</td>\n",
       "      <td>6.500</td>\n",
       "      <td>6.5000</td>\n",
       "      <td>7.60</td>\n",
       "    </tr>\n",
       "    <tr>\n",
       "      <th>ratings</th>\n",
       "      <td>430.0</td>\n",
       "      <td>4.339302</td>\n",
       "      <td>0.151494</td>\n",
       "      <td>3.00</td>\n",
       "      <td>4.30</td>\n",
       "      <td>4.300</td>\n",
       "      <td>4.4000</td>\n",
       "      <td>4.60</td>\n",
       "    </tr>\n",
       "    <tr>\n",
       "      <th>discount_percent</th>\n",
       "      <td>430.0</td>\n",
       "      <td>0.108000</td>\n",
       "      <td>0.073432</td>\n",
       "      <td>0.01</td>\n",
       "      <td>0.06</td>\n",
       "      <td>0.090</td>\n",
       "      <td>0.1600</td>\n",
       "      <td>0.44</td>\n",
       "    </tr>\n",
       "    <tr>\n",
       "      <th>sales</th>\n",
       "      <td>430.0</td>\n",
       "      <td>29.752326</td>\n",
       "      <td>58.399588</td>\n",
       "      <td>0.00</td>\n",
       "      <td>1.64</td>\n",
       "      <td>9.655</td>\n",
       "      <td>29.7175</td>\n",
       "      <td>550.19</td>\n",
       "    </tr>\n",
       "  </tbody>\n",
       "</table>\n",
       "</div>"
      ],
      "text/plain": [
       "                  count       mean        std   min   25%    50%      75%  \\\n",
       "display_size      430.0   6.369767   0.369549  4.70  6.30  6.500   6.5000   \n",
       "ratings           430.0   4.339302   0.151494  3.00  4.30  4.300   4.4000   \n",
       "discount_percent  430.0   0.108000   0.073432  0.01  0.06  0.090   0.1600   \n",
       "sales             430.0  29.752326  58.399588  0.00  1.64  9.655  29.7175   \n",
       "\n",
       "                     max  \n",
       "display_size        7.60  \n",
       "ratings             4.60  \n",
       "discount_percent    0.44  \n",
       "sales             550.19  "
      ]
     },
     "execution_count": 6,
     "metadata": {},
     "output_type": "execute_result"
    }
   ],
   "source": [
    "df.describe(include=\"float\").T"
   ]
  },
  {
   "cell_type": "code",
   "execution_count": 7,
   "id": "9b775044",
   "metadata": {},
   "outputs": [
    {
     "data": {
      "text/html": [
       "<div>\n",
       "<style scoped>\n",
       "    .dataframe tbody tr th:only-of-type {\n",
       "        vertical-align: middle;\n",
       "    }\n",
       "\n",
       "    .dataframe tbody tr th {\n",
       "        vertical-align: top;\n",
       "    }\n",
       "\n",
       "    .dataframe thead th {\n",
       "        text-align: right;\n",
       "    }\n",
       "</style>\n",
       "<table border=\"1\" class=\"dataframe\">\n",
       "  <thead>\n",
       "    <tr style=\"text-align: right;\">\n",
       "      <th></th>\n",
       "      <th>count</th>\n",
       "      <th>unique</th>\n",
       "      <th>top</th>\n",
       "      <th>freq</th>\n",
       "    </tr>\n",
       "  </thead>\n",
       "  <tbody>\n",
       "    <tr>\n",
       "      <th>brand</th>\n",
       "      <td>430</td>\n",
       "      <td>5</td>\n",
       "      <td>Realme</td>\n",
       "      <td>138</td>\n",
       "    </tr>\n",
       "    <tr>\n",
       "      <th>model</th>\n",
       "      <td>430</td>\n",
       "      <td>119</td>\n",
       "      <td>iPhone XR</td>\n",
       "      <td>18</td>\n",
       "    </tr>\n",
       "    <tr>\n",
       "      <th>base_color</th>\n",
       "      <td>430</td>\n",
       "      <td>12</td>\n",
       "      <td>Blue</td>\n",
       "      <td>117</td>\n",
       "    </tr>\n",
       "    <tr>\n",
       "      <th>processor</th>\n",
       "      <td>430</td>\n",
       "      <td>7</td>\n",
       "      <td>Qualcomm</td>\n",
       "      <td>168</td>\n",
       "    </tr>\n",
       "    <tr>\n",
       "      <th>screen_size</th>\n",
       "      <td>430</td>\n",
       "      <td>5</td>\n",
       "      <td>Large</td>\n",
       "      <td>242</td>\n",
       "    </tr>\n",
       "  </tbody>\n",
       "</table>\n",
       "</div>"
      ],
      "text/plain": [
       "            count unique        top freq\n",
       "brand         430      5     Realme  138\n",
       "model         430    119  iPhone XR   18\n",
       "base_color    430     12       Blue  117\n",
       "processor     430      7   Qualcomm  168\n",
       "screen_size   430      5      Large  242"
      ]
     },
     "execution_count": 7,
     "metadata": {},
     "output_type": "execute_result"
    }
   ],
   "source": [
    "df.describe(include=\"object\").T"
   ]
  },
  {
   "cell_type": "code",
   "execution_count": 8,
   "id": "7fbba888",
   "metadata": {},
   "outputs": [
    {
     "data": {
      "text/plain": [
       "Index(['brand', 'model', 'base_color', 'processor', 'screen_size', 'ROM',\n",
       "       'RAM', 'display_size', 'num_rear_camera', 'num_front_camera',\n",
       "       'battery_capacity', 'ratings', 'num_of_ratings', 'sales_price',\n",
       "       'discount_percent', 'sales'],\n",
       "      dtype='object')"
      ]
     },
     "execution_count": 8,
     "metadata": {},
     "output_type": "execute_result"
    }
   ],
   "source": [
    "df.columns"
   ]
  },
  {
   "cell_type": "code",
   "execution_count": 9,
   "id": "f93409fb",
   "metadata": {},
   "outputs": [
    {
     "data": {
      "text/plain": [
       "Text(0.5, 1.0, 'Count of brand Available in the data')"
      ]
     },
     "execution_count": 9,
     "metadata": {},
     "output_type": "execute_result"
    },
    {
     "data": {
      "image/png": "[encoded data removed]",
      "text/plain": [
       "<Figure size 504x288 with 1 Axes>"
      ]
     },
     "metadata": {
      "needs_background": "light"
     },
     "output_type": "display_data"
    }
   ],
   "source": [
    "plt.figure(figsize=(7,4))\n",
    "sns.countplot(x=df[\"brand\"]);\n",
    "plt.title(\"Count of brand Available in the data\")"
   ]
  },
  {
   "cell_type": "code",
   "execution_count": 10,
   "id": "0ac91fa4",
   "metadata": {},
   "outputs": [
    {
     "data": {
      "text/plain": [
       "Text(0.5, 1.0, 'Count of processor Available in the data')"
      ]
     },
     "execution_count": 10,
     "metadata": {},
     "output_type": "execute_result"
    },
    {
     "data": {
      "image/png": "[encoded data removed]",
      "text/plain": [
       "<Figure size 504x288 with 1 Axes>"
      ]
     },
     "metadata": {
      "needs_background": "light"
     },
     "output_type": "display_data"
    }
   ],
   "source": [
    "plt.figure(figsize=(7,4))\n",
    "sns.countplot(x=df[\"processor\"]);\n",
    "plt.title(\"Count of processor Available in the data\")"
   ]
  },
  {
   "cell_type": "code",
   "execution_count": 11,
   "id": "04250723",
   "metadata": {},
   "outputs": [
    {
     "data": {
      "image/png": "[encoded data removed]",
      "text/plain": [
       "<Figure size 504x288 with 1 Axes>"
      ]
     },
     "metadata": {
      "needs_background": "light"
     },
     "output_type": "display_data"
    }
   ],
   "source": [
    "plt.figure(figsize=(7,4))\n",
    "sns.countplot(x=df[\"battery_capacity\"]);\n",
    "plt.title(\"Count of battery_capacity Available in the data\")\n",
    "plt.xticks(rotation=90);"
   ]
  },
  {
   "cell_type": "code",
   "execution_count": 12,
   "id": "83d477aa",
   "metadata": {},
   "outputs": [
    {
     "data": {
      "text/html": [
       "<div>\n",
       "<style scoped>\n",
       "    .dataframe tbody tr th:only-of-type {\n",
       "        vertical-align: middle;\n",
       "    }\n",
       "\n",
       "    .dataframe tbody tr th {\n",
       "        vertical-align: top;\n",
       "    }\n",
       "\n",
       "    .dataframe thead th {\n",
       "        text-align: right;\n",
       "    }\n",
       "</style>\n",
       "<table border=\"1\" class=\"dataframe\">\n",
       "  <thead>\n",
       "    <tr style=\"text-align: right;\">\n",
       "      <th></th>\n",
       "      <th>min</th>\n",
       "      <th>max</th>\n",
       "    </tr>\n",
       "    <tr>\n",
       "      <th>brand</th>\n",
       "      <th></th>\n",
       "      <th></th>\n",
       "    </tr>\n",
       "  </thead>\n",
       "  <tbody>\n",
       "    <tr>\n",
       "      <th>Apple</th>\n",
       "      <td>4.5</td>\n",
       "      <td>4.6</td>\n",
       "    </tr>\n",
       "    <tr>\n",
       "      <th>Poco</th>\n",
       "      <td>4.2</td>\n",
       "      <td>4.6</td>\n",
       "    </tr>\n",
       "    <tr>\n",
       "      <th>Realme</th>\n",
       "      <td>4.1</td>\n",
       "      <td>4.5</td>\n",
       "    </tr>\n",
       "    <tr>\n",
       "      <th>Samsung</th>\n",
       "      <td>3.0</td>\n",
       "      <td>4.6</td>\n",
       "    </tr>\n",
       "    <tr>\n",
       "      <th>Xiaomi</th>\n",
       "      <td>3.8</td>\n",
       "      <td>4.5</td>\n",
       "    </tr>\n",
       "  </tbody>\n",
       "</table>\n",
       "</div>"
      ],
      "text/plain": [
       "         min  max\n",
       "brand            \n",
       "Apple    4.5  4.6\n",
       "Poco     4.2  4.6\n",
       "Realme   4.1  4.5\n",
       "Samsung  3.0  4.6\n",
       "Xiaomi   3.8  4.5"
      ]
     },
     "execution_count": 12,
     "metadata": {},
     "output_type": "execute_result"
    }
   ],
   "source": [
    "df.groupby(\"brand\")[\"ratings\"].agg([\"min\",\"max\"])"
   ]
  },
  {
   "cell_type": "code",
   "execution_count": 13,
   "id": "4743fa83",
   "metadata": {},
   "outputs": [
    {
     "data": {
      "text/plain": [
       "3    157\n",
       "4    136\n",
       "2     97\n",
       "1     40\n",
       "Name: num_rear_camera, dtype: int64"
      ]
     },
     "execution_count": 13,
     "metadata": {},
     "output_type": "execute_result"
    }
   ],
   "source": [
    "df['num_rear_camera'].value_counts()"
   ]
  },
  {
   "cell_type": "code",
   "execution_count": 14,
   "id": "ea117a20",
   "metadata": {},
   "outputs": [
    {
     "data": {
      "text/plain": [
       "1    413\n",
       "2     15\n",
       "3      2\n",
       "Name: num_front_camera, dtype: int64"
      ]
     },
     "execution_count": 14,
     "metadata": {},
     "output_type": "execute_result"
    }
   ],
   "source": [
    "df['num_front_camera'].value_counts()"
   ]
  },
  {
   "cell_type": "code",
   "execution_count": 15,
   "id": "6c157634",
   "metadata": {},
   "outputs": [
    {
     "data": {
      "image/png": "[encoded data removed]",
      "text/plain": [
       "<Figure size 360x360 with 1 Axes>"
      ]
     },
     "metadata": {
      "needs_background": "light"
     },
     "output_type": "display_data"
    }
   ],
   "source": [
    "sns.catplot(x=\"num_rear_camera\",y=\"brand\", data=df,kind=\"strip\",jitter=False);\n"
   ]
  },
  {
   "cell_type": "code",
   "execution_count": 16,
   "id": "4aaf4c06",
   "metadata": {},
   "outputs": [
    {
     "data": {
      "text/html": [
       "<div>\n",
       "<style scoped>\n",
       "    .dataframe tbody tr th:only-of-type {\n",
       "        vertical-align: middle;\n",
       "    }\n",
       "\n",
       "    .dataframe tbody tr th {\n",
       "        vertical-align: top;\n",
       "    }\n",
       "\n",
       "    .dataframe thead th {\n",
       "        text-align: right;\n",
       "    }\n",
       "</style>\n",
       "<table border=\"1\" class=\"dataframe\">\n",
       "  <thead>\n",
       "    <tr style=\"text-align: right;\">\n",
       "      <th></th>\n",
       "      <th>brand</th>\n",
       "      <th>model</th>\n",
       "      <th>base_color</th>\n",
       "      <th>processor</th>\n",
       "      <th>screen_size</th>\n",
       "      <th>ROM</th>\n",
       "      <th>RAM</th>\n",
       "      <th>display_size</th>\n",
       "      <th>num_rear_camera</th>\n",
       "      <th>num_front_camera</th>\n",
       "      <th>battery_capacity</th>\n",
       "      <th>ratings</th>\n",
       "      <th>num_of_ratings</th>\n",
       "      <th>sales_price</th>\n",
       "      <th>discount_percent</th>\n",
       "      <th>sales</th>\n",
       "    </tr>\n",
       "  </thead>\n",
       "  <tbody>\n",
       "    <tr>\n",
       "      <th>56</th>\n",
       "      <td>Poco</td>\n",
       "      <td>C3</td>\n",
       "      <td>Black</td>\n",
       "      <td>MediaTek</td>\n",
       "      <td>Large</td>\n",
       "      <td>64</td>\n",
       "      <td>4</td>\n",
       "      <td>6.5</td>\n",
       "      <td>3</td>\n",
       "      <td>1</td>\n",
       "      <td>5000</td>\n",
       "      <td>4.3</td>\n",
       "      <td>38496</td>\n",
       "      <td>8999</td>\n",
       "      <td>0.18</td>\n",
       "      <td>34.64</td>\n",
       "    </tr>\n",
       "    <tr>\n",
       "      <th>57</th>\n",
       "      <td>Poco</td>\n",
       "      <td>M3</td>\n",
       "      <td>Blue</td>\n",
       "      <td>Qualcomm</td>\n",
       "      <td>Large</td>\n",
       "      <td>64</td>\n",
       "      <td>4</td>\n",
       "      <td>6.5</td>\n",
       "      <td>3</td>\n",
       "      <td>1</td>\n",
       "      <td>6000</td>\n",
       "      <td>4.3</td>\n",
       "      <td>4687</td>\n",
       "      <td>10999</td>\n",
       "      <td>0.08</td>\n",
       "      <td>5.16</td>\n",
       "    </tr>\n",
       "    <tr>\n",
       "      <th>59</th>\n",
       "      <td>Poco</td>\n",
       "      <td>C3</td>\n",
       "      <td>Blue</td>\n",
       "      <td>MediaTek</td>\n",
       "      <td>Large</td>\n",
       "      <td>32</td>\n",
       "      <td>3</td>\n",
       "      <td>6.5</td>\n",
       "      <td>3</td>\n",
       "      <td>1</td>\n",
       "      <td>5000</td>\n",
       "      <td>4.3</td>\n",
       "      <td>54470</td>\n",
       "      <td>7999</td>\n",
       "      <td>0.20</td>\n",
       "      <td>43.57</td>\n",
       "    </tr>\n",
       "    <tr>\n",
       "      <th>60</th>\n",
       "      <td>Poco</td>\n",
       "      <td>M3</td>\n",
       "      <td>Black</td>\n",
       "      <td>Qualcomm</td>\n",
       "      <td>Large</td>\n",
       "      <td>64</td>\n",
       "      <td>6</td>\n",
       "      <td>6.5</td>\n",
       "      <td>3</td>\n",
       "      <td>1</td>\n",
       "      <td>6000</td>\n",
       "      <td>4.3</td>\n",
       "      <td>39881</td>\n",
       "      <td>11999</td>\n",
       "      <td>0.07</td>\n",
       "      <td>47.85</td>\n",
       "    </tr>\n",
       "    <tr>\n",
       "      <th>61</th>\n",
       "      <td>Poco</td>\n",
       "      <td>C3</td>\n",
       "      <td>Black</td>\n",
       "      <td>MediaTek</td>\n",
       "      <td>Large</td>\n",
       "      <td>32</td>\n",
       "      <td>3</td>\n",
       "      <td>6.5</td>\n",
       "      <td>3</td>\n",
       "      <td>1</td>\n",
       "      <td>5000</td>\n",
       "      <td>4.3</td>\n",
       "      <td>54470</td>\n",
       "      <td>7999</td>\n",
       "      <td>0.20</td>\n",
       "      <td>43.57</td>\n",
       "    </tr>\n",
       "    <tr>\n",
       "      <th>...</th>\n",
       "      <td>...</td>\n",
       "      <td>...</td>\n",
       "      <td>...</td>\n",
       "      <td>...</td>\n",
       "      <td>...</td>\n",
       "      <td>...</td>\n",
       "      <td>...</td>\n",
       "      <td>...</td>\n",
       "      <td>...</td>\n",
       "      <td>...</td>\n",
       "      <td>...</td>\n",
       "      <td>...</td>\n",
       "      <td>...</td>\n",
       "      <td>...</td>\n",
       "      <td>...</td>\n",
       "      <td>...</td>\n",
       "    </tr>\n",
       "    <tr>\n",
       "      <th>400</th>\n",
       "      <td>Xiaomi</td>\n",
       "      <td>Mi 10T Pro</td>\n",
       "      <td>Black</td>\n",
       "      <td>Qualcomm</td>\n",
       "      <td>Large</td>\n",
       "      <td>128</td>\n",
       "      <td>8</td>\n",
       "      <td>6.7</td>\n",
       "      <td>3</td>\n",
       "      <td>1</td>\n",
       "      <td>5000</td>\n",
       "      <td>4.2</td>\n",
       "      <td>3571</td>\n",
       "      <td>36999</td>\n",
       "      <td>0.22</td>\n",
       "      <td>13.21</td>\n",
       "    </tr>\n",
       "    <tr>\n",
       "      <th>406</th>\n",
       "      <td>Xiaomi</td>\n",
       "      <td>Mi 10T</td>\n",
       "      <td>Black</td>\n",
       "      <td>Qualcomm</td>\n",
       "      <td>Large</td>\n",
       "      <td>128</td>\n",
       "      <td>6</td>\n",
       "      <td>6.7</td>\n",
       "      <td>3</td>\n",
       "      <td>1</td>\n",
       "      <td>5000</td>\n",
       "      <td>4.2</td>\n",
       "      <td>1294</td>\n",
       "      <td>32999</td>\n",
       "      <td>0.17</td>\n",
       "      <td>4.27</td>\n",
       "    </tr>\n",
       "    <tr>\n",
       "      <th>414</th>\n",
       "      <td>Xiaomi</td>\n",
       "      <td>Mi 10T</td>\n",
       "      <td>Silver</td>\n",
       "      <td>Qualcomm</td>\n",
       "      <td>Large</td>\n",
       "      <td>128</td>\n",
       "      <td>6</td>\n",
       "      <td>6.7</td>\n",
       "      <td>3</td>\n",
       "      <td>1</td>\n",
       "      <td>5000</td>\n",
       "      <td>4.2</td>\n",
       "      <td>1294</td>\n",
       "      <td>32999</td>\n",
       "      <td>0.17</td>\n",
       "      <td>4.27</td>\n",
       "    </tr>\n",
       "    <tr>\n",
       "      <th>417</th>\n",
       "      <td>Xiaomi</td>\n",
       "      <td>Mi 11X Pro 5G</td>\n",
       "      <td>Black</td>\n",
       "      <td>Qualcomm</td>\n",
       "      <td>Large</td>\n",
       "      <td>128</td>\n",
       "      <td>8</td>\n",
       "      <td>6.7</td>\n",
       "      <td>3</td>\n",
       "      <td>1</td>\n",
       "      <td>4520</td>\n",
       "      <td>3.8</td>\n",
       "      <td>35</td>\n",
       "      <td>36499</td>\n",
       "      <td>0.01</td>\n",
       "      <td>0.13</td>\n",
       "    </tr>\n",
       "    <tr>\n",
       "      <th>427</th>\n",
       "      <td>Xiaomi</td>\n",
       "      <td>Mi 11 Lite</td>\n",
       "      <td>Others</td>\n",
       "      <td>Qualcomm</td>\n",
       "      <td>Large</td>\n",
       "      <td>128</td>\n",
       "      <td>6</td>\n",
       "      <td>6.5</td>\n",
       "      <td>3</td>\n",
       "      <td>1</td>\n",
       "      <td>4250</td>\n",
       "      <td>4.2</td>\n",
       "      <td>1554</td>\n",
       "      <td>21999</td>\n",
       "      <td>0.12</td>\n",
       "      <td>3.42</td>\n",
       "    </tr>\n",
       "  </tbody>\n",
       "</table>\n",
       "<p>156 rows × 16 columns</p>\n",
       "</div>"
      ],
      "text/plain": [
       "      brand          model base_color processor screen_size  ROM  RAM  \\\n",
       "56     Poco             C3      Black  MediaTek       Large   64    4   \n",
       "57     Poco             M3       Blue  Qualcomm       Large   64    4   \n",
       "59     Poco             C3       Blue  MediaTek       Large   32    3   \n",
       "60     Poco             M3      Black  Qualcomm       Large   64    6   \n",
       "61     Poco             C3      Black  MediaTek       Large   32    3   \n",
       "..      ...            ...        ...       ...         ...  ...  ...   \n",
       "400  Xiaomi     Mi 10T Pro      Black  Qualcomm       Large  128    8   \n",
       "406  Xiaomi         Mi 10T      Black  Qualcomm       Large  128    6   \n",
       "414  Xiaomi         Mi 10T     Silver  Qualcomm       Large  128    6   \n",
       "417  Xiaomi  Mi 11X Pro 5G      Black  Qualcomm       Large  128    8   \n",
       "427  Xiaomi     Mi 11 Lite     Others  Qualcomm       Large  128    6   \n",
       "\n",
       "     display_size  num_rear_camera  num_front_camera  battery_capacity  \\\n",
       "56            6.5                3                 1              5000   \n",
       "57            6.5                3                 1              6000   \n",
       "59            6.5                3                 1              5000   \n",
       "60            6.5                3                 1              6000   \n",
       "61            6.5                3                 1              5000   \n",
       "..            ...              ...               ...               ...   \n",
       "400           6.7                3                 1              5000   \n",
       "406           6.7                3                 1              5000   \n",
       "414           6.7                3                 1              5000   \n",
       "417           6.7                3                 1              4520   \n",
       "427           6.5                3                 1              4250   \n",
       "\n",
       "     ratings  num_of_ratings  sales_price  discount_percent  sales  \n",
       "56       4.3           38496         8999              0.18  34.64  \n",
       "57       4.3            4687        10999              0.08   5.16  \n",
       "59       4.3           54470         7999              0.20  43.57  \n",
       "60       4.3           39881        11999              0.07  47.85  \n",
       "61       4.3           54470         7999              0.20  43.57  \n",
       "..       ...             ...          ...               ...    ...  \n",
       "400      4.2            3571        36999              0.22  13.21  \n",
       "406      4.2            1294        32999              0.17   4.27  \n",
       "414      4.2            1294        32999              0.17   4.27  \n",
       "417      3.8              35        36499              0.01   0.13  \n",
       "427      4.2            1554        21999              0.12   3.42  \n",
       "\n",
       "[156 rows x 16 columns]"
      ]
     },
     "execution_count": 16,
     "metadata": {},
     "output_type": "execute_result"
    }
   ],
   "source": [
    "df[(df[\"num_rear_camera\"]==3)&(df[\"num_front_camera\"]==1)]"
   ]
  },
  {
   "cell_type": "code",
   "execution_count": 17,
   "id": "418a3887",
   "metadata": {},
   "outputs": [
    {
     "data": {
      "text/html": [
       "<div>\n",
       "<style scoped>\n",
       "    .dataframe tbody tr th:only-of-type {\n",
       "        vertical-align: middle;\n",
       "    }\n",
       "\n",
       "    .dataframe tbody tr th {\n",
       "        vertical-align: top;\n",
       "    }\n",
       "\n",
       "    .dataframe thead th {\n",
       "        text-align: right;\n",
       "    }\n",
       "</style>\n",
       "<table border=\"1\" class=\"dataframe\">\n",
       "  <thead>\n",
       "    <tr style=\"text-align: right;\">\n",
       "      <th></th>\n",
       "      <th>brand</th>\n",
       "      <th>model</th>\n",
       "      <th>base_color</th>\n",
       "      <th>processor</th>\n",
       "      <th>screen_size</th>\n",
       "      <th>ROM</th>\n",
       "      <th>RAM</th>\n",
       "      <th>display_size</th>\n",
       "      <th>num_rear_camera</th>\n",
       "      <th>num_front_camera</th>\n",
       "      <th>battery_capacity</th>\n",
       "      <th>ratings</th>\n",
       "      <th>num_of_ratings</th>\n",
       "      <th>sales_price</th>\n",
       "      <th>discount_percent</th>\n",
       "      <th>sales</th>\n",
       "    </tr>\n",
       "  </thead>\n",
       "  <tbody>\n",
       "    <tr>\n",
       "      <th>58</th>\n",
       "      <td>Poco</td>\n",
       "      <td>M2 Reloaded</td>\n",
       "      <td>Blue</td>\n",
       "      <td>MediaTek</td>\n",
       "      <td>Large</td>\n",
       "      <td>64</td>\n",
       "      <td>4</td>\n",
       "      <td>6.5</td>\n",
       "      <td>4</td>\n",
       "      <td>1</td>\n",
       "      <td>5000</td>\n",
       "      <td>4.3</td>\n",
       "      <td>14878</td>\n",
       "      <td>9999</td>\n",
       "      <td>0.16</td>\n",
       "      <td>14.88</td>\n",
       "    </tr>\n",
       "    <tr>\n",
       "      <th>63</th>\n",
       "      <td>Poco</td>\n",
       "      <td>M2 Reloaded</td>\n",
       "      <td>Black</td>\n",
       "      <td>MediaTek</td>\n",
       "      <td>Large</td>\n",
       "      <td>64</td>\n",
       "      <td>4</td>\n",
       "      <td>6.5</td>\n",
       "      <td>4</td>\n",
       "      <td>1</td>\n",
       "      <td>5000</td>\n",
       "      <td>4.3</td>\n",
       "      <td>14878</td>\n",
       "      <td>9999</td>\n",
       "      <td>0.16</td>\n",
       "      <td>14.88</td>\n",
       "    </tr>\n",
       "    <tr>\n",
       "      <th>71</th>\n",
       "      <td>Poco</td>\n",
       "      <td>X3 Pro</td>\n",
       "      <td>Black</td>\n",
       "      <td>Qualcomm</td>\n",
       "      <td>Large</td>\n",
       "      <td>128</td>\n",
       "      <td>6</td>\n",
       "      <td>6.7</td>\n",
       "      <td>4</td>\n",
       "      <td>1</td>\n",
       "      <td>5160</td>\n",
       "      <td>4.4</td>\n",
       "      <td>10279</td>\n",
       "      <td>18999</td>\n",
       "      <td>0.20</td>\n",
       "      <td>19.53</td>\n",
       "    </tr>\n",
       "    <tr>\n",
       "      <th>73</th>\n",
       "      <td>Poco</td>\n",
       "      <td>X3 Pro</td>\n",
       "      <td>Blue</td>\n",
       "      <td>Qualcomm</td>\n",
       "      <td>Large</td>\n",
       "      <td>128</td>\n",
       "      <td>6</td>\n",
       "      <td>6.7</td>\n",
       "      <td>4</td>\n",
       "      <td>1</td>\n",
       "      <td>5160</td>\n",
       "      <td>4.4</td>\n",
       "      <td>10279</td>\n",
       "      <td>18999</td>\n",
       "      <td>0.20</td>\n",
       "      <td>19.53</td>\n",
       "    </tr>\n",
       "    <tr>\n",
       "      <th>74</th>\n",
       "      <td>Poco</td>\n",
       "      <td>X3 Pro</td>\n",
       "      <td>Black</td>\n",
       "      <td>Qualcomm</td>\n",
       "      <td>Large</td>\n",
       "      <td>128</td>\n",
       "      <td>8</td>\n",
       "      <td>6.7</td>\n",
       "      <td>4</td>\n",
       "      <td>1</td>\n",
       "      <td>5160</td>\n",
       "      <td>4.4</td>\n",
       "      <td>4780</td>\n",
       "      <td>20999</td>\n",
       "      <td>0.19</td>\n",
       "      <td>10.04</td>\n",
       "    </tr>\n",
       "    <tr>\n",
       "      <th>...</th>\n",
       "      <td>...</td>\n",
       "      <td>...</td>\n",
       "      <td>...</td>\n",
       "      <td>...</td>\n",
       "      <td>...</td>\n",
       "      <td>...</td>\n",
       "      <td>...</td>\n",
       "      <td>...</td>\n",
       "      <td>...</td>\n",
       "      <td>...</td>\n",
       "      <td>...</td>\n",
       "      <td>...</td>\n",
       "      <td>...</td>\n",
       "      <td>...</td>\n",
       "      <td>...</td>\n",
       "      <td>...</td>\n",
       "    </tr>\n",
       "    <tr>\n",
       "      <th>380</th>\n",
       "      <td>Xiaomi</td>\n",
       "      <td>Redmi Note 9 Pro</td>\n",
       "      <td>White</td>\n",
       "      <td>Qualcomm</td>\n",
       "      <td>Large</td>\n",
       "      <td>64</td>\n",
       "      <td>4</td>\n",
       "      <td>6.7</td>\n",
       "      <td>4</td>\n",
       "      <td>1</td>\n",
       "      <td>5020</td>\n",
       "      <td>4.4</td>\n",
       "      <td>6106</td>\n",
       "      <td>16487</td>\n",
       "      <td>0.03</td>\n",
       "      <td>10.07</td>\n",
       "    </tr>\n",
       "    <tr>\n",
       "      <th>403</th>\n",
       "      <td>Xiaomi</td>\n",
       "      <td>Redmi Note 9 Pro</td>\n",
       "      <td>Gold</td>\n",
       "      <td>Qualcomm</td>\n",
       "      <td>Large</td>\n",
       "      <td>128</td>\n",
       "      <td>6</td>\n",
       "      <td>6.7</td>\n",
       "      <td>4</td>\n",
       "      <td>1</td>\n",
       "      <td>5020</td>\n",
       "      <td>4.3</td>\n",
       "      <td>434</td>\n",
       "      <td>18778</td>\n",
       "      <td>0.01</td>\n",
       "      <td>0.81</td>\n",
       "    </tr>\n",
       "    <tr>\n",
       "      <th>408</th>\n",
       "      <td>Xiaomi</td>\n",
       "      <td>Mi 10</td>\n",
       "      <td>Green</td>\n",
       "      <td>Qualcomm</td>\n",
       "      <td>Large</td>\n",
       "      <td>256</td>\n",
       "      <td>8</td>\n",
       "      <td>6.7</td>\n",
       "      <td>4</td>\n",
       "      <td>1</td>\n",
       "      <td>4780</td>\n",
       "      <td>4.1</td>\n",
       "      <td>283</td>\n",
       "      <td>54999</td>\n",
       "      <td>0.08</td>\n",
       "      <td>1.56</td>\n",
       "    </tr>\n",
       "    <tr>\n",
       "      <th>420</th>\n",
       "      <td>Xiaomi</td>\n",
       "      <td>Mi 10i</td>\n",
       "      <td>Black</td>\n",
       "      <td>Qualcomm</td>\n",
       "      <td>Large</td>\n",
       "      <td>128</td>\n",
       "      <td>8</td>\n",
       "      <td>6.7</td>\n",
       "      <td>4</td>\n",
       "      <td>1</td>\n",
       "      <td>4820</td>\n",
       "      <td>4.3</td>\n",
       "      <td>663</td>\n",
       "      <td>24215</td>\n",
       "      <td>0.06</td>\n",
       "      <td>1.61</td>\n",
       "    </tr>\n",
       "    <tr>\n",
       "      <th>422</th>\n",
       "      <td>Xiaomi</td>\n",
       "      <td>Redmi Note 9 Pro</td>\n",
       "      <td>Blue</td>\n",
       "      <td>Qualcomm</td>\n",
       "      <td>Large</td>\n",
       "      <td>128</td>\n",
       "      <td>6</td>\n",
       "      <td>6.7</td>\n",
       "      <td>4</td>\n",
       "      <td>1</td>\n",
       "      <td>5020</td>\n",
       "      <td>4.3</td>\n",
       "      <td>434</td>\n",
       "      <td>14999</td>\n",
       "      <td>0.06</td>\n",
       "      <td>0.65</td>\n",
       "    </tr>\n",
       "  </tbody>\n",
       "</table>\n",
       "<p>136 rows × 16 columns</p>\n",
       "</div>"
      ],
      "text/plain": [
       "      brand             model base_color processor screen_size  ROM  RAM  \\\n",
       "58     Poco       M2 Reloaded       Blue  MediaTek       Large   64    4   \n",
       "63     Poco       M2 Reloaded      Black  MediaTek       Large   64    4   \n",
       "71     Poco            X3 Pro      Black  Qualcomm       Large  128    6   \n",
       "73     Poco            X3 Pro       Blue  Qualcomm       Large  128    6   \n",
       "74     Poco            X3 Pro      Black  Qualcomm       Large  128    8   \n",
       "..      ...               ...        ...       ...         ...  ...  ...   \n",
       "380  Xiaomi  Redmi Note 9 Pro      White  Qualcomm       Large   64    4   \n",
       "403  Xiaomi  Redmi Note 9 Pro       Gold  Qualcomm       Large  128    6   \n",
       "408  Xiaomi             Mi 10      Green  Qualcomm       Large  256    8   \n",
       "420  Xiaomi            Mi 10i      Black  Qualcomm       Large  128    8   \n",
       "422  Xiaomi  Redmi Note 9 Pro       Blue  Qualcomm       Large  128    6   \n",
       "\n",
       "     display_size  num_rear_camera  num_front_camera  battery_capacity  \\\n",
       "58            6.5                4                 1              5000   \n",
       "63            6.5                4                 1              5000   \n",
       "71            6.7                4                 1              5160   \n",
       "73            6.7                4                 1              5160   \n",
       "74            6.7                4                 1              5160   \n",
       "..            ...              ...               ...               ...   \n",
       "380           6.7                4                 1              5020   \n",
       "403           6.7                4                 1              5020   \n",
       "408           6.7                4                 1              4780   \n",
       "420           6.7                4                 1              4820   \n",
       "422           6.7                4                 1              5020   \n",
       "\n",
       "     ratings  num_of_ratings  sales_price  discount_percent  sales  \n",
       "58       4.3           14878         9999              0.16  14.88  \n",
       "63       4.3           14878         9999              0.16  14.88  \n",
       "71       4.4           10279        18999              0.20  19.53  \n",
       "73       4.4           10279        18999              0.20  19.53  \n",
       "74       4.4            4780        20999              0.19  10.04  \n",
       "..       ...             ...          ...               ...    ...  \n",
       "380      4.4            6106        16487              0.03  10.07  \n",
       "403      4.3             434        18778              0.01   0.81  \n",
       "408      4.1             283        54999              0.08   1.56  \n",
       "420      4.3             663        24215              0.06   1.61  \n",
       "422      4.3             434        14999              0.06   0.65  \n",
       "\n",
       "[136 rows x 16 columns]"
      ]
     },
     "execution_count": 17,
     "metadata": {},
     "output_type": "execute_result"
    }
   ],
   "source": [
    "df.iloc[np.where(df[\"num_rear_camera\"]==max(df[\"num_rear_camera\"]))]"
   ]
  },
  {
   "cell_type": "code",
   "execution_count": 18,
   "id": "ff1bead8",
   "metadata": {},
   "outputs": [
    {
     "data": {
      "image/png": "[encoded data removed]",
      "text/plain": [
       "<Figure size 432x288 with 1 Axes>"
      ]
     },
     "metadata": {
      "needs_background": "light"
     },
     "output_type": "display_data"
    }
   ],
   "source": [
    "sns.barplot(x=\"brand\",y=\"ROM\", data=df);\n",
    "plt.xticks(rotation=90);"
   ]
  },
  {
   "cell_type": "code",
   "execution_count": 19,
   "id": "54d45ef5",
   "metadata": {},
   "outputs": [
    {
     "data": {
      "image/png": "[encoded data removed]",
      "text/plain": [
       "<Figure size 432x288 with 1 Axes>"
      ]
     },
     "metadata": {
      "needs_background": "light"
     },
     "output_type": "display_data"
    }
   ],
   "source": [
    "sns.barplot(x=\"brand\",y=\"RAM\", data=df);\n",
    "plt.xticks(rotation=90);"
   ]
  },
  {
   "cell_type": "code",
   "execution_count": 20,
   "id": "76f24288",
   "metadata": {},
   "outputs": [
    {
     "data": {
      "text/html": [
       "<div>\n",
       "<style scoped>\n",
       "    .dataframe tbody tr th:only-of-type {\n",
       "        vertical-align: middle;\n",
       "    }\n",
       "\n",
       "    .dataframe tbody tr th {\n",
       "        vertical-align: top;\n",
       "    }\n",
       "\n",
       "    .dataframe thead th {\n",
       "        text-align: right;\n",
       "    }\n",
       "</style>\n",
       "<table border=\"1\" class=\"dataframe\">\n",
       "  <thead>\n",
       "    <tr style=\"text-align: right;\">\n",
       "      <th></th>\n",
       "      <th>min</th>\n",
       "      <th>max</th>\n",
       "    </tr>\n",
       "    <tr>\n",
       "      <th>brand</th>\n",
       "      <th></th>\n",
       "      <th></th>\n",
       "    </tr>\n",
       "  </thead>\n",
       "  <tbody>\n",
       "    <tr>\n",
       "      <th>Apple</th>\n",
       "      <td>32999</td>\n",
       "      <td>79149</td>\n",
       "    </tr>\n",
       "    <tr>\n",
       "      <th>Poco</th>\n",
       "      <td>7999</td>\n",
       "      <td>30999</td>\n",
       "    </tr>\n",
       "    <tr>\n",
       "      <th>Realme</th>\n",
       "      <td>6499</td>\n",
       "      <td>41999</td>\n",
       "    </tr>\n",
       "    <tr>\n",
       "      <th>Samsung</th>\n",
       "      <td>7990</td>\n",
       "      <td>157999</td>\n",
       "    </tr>\n",
       "    <tr>\n",
       "      <th>Xiaomi</th>\n",
       "      <td>5742</td>\n",
       "      <td>54999</td>\n",
       "    </tr>\n",
       "  </tbody>\n",
       "</table>\n",
       "</div>"
      ],
      "text/plain": [
       "           min     max\n",
       "brand                 \n",
       "Apple    32999   79149\n",
       "Poco      7999   30999\n",
       "Realme    6499   41999\n",
       "Samsung   7990  157999\n",
       "Xiaomi    5742   54999"
      ]
     },
     "execution_count": 20,
     "metadata": {},
     "output_type": "execute_result"
    }
   ],
   "source": [
    "df.groupby(\"brand\")[\"sales_price\"].agg([\"min\",\"max\"])"
   ]
  },
  {
   "cell_type": "code",
   "execution_count": 21,
   "id": "1ccc33c6",
   "metadata": {},
   "outputs": [
    {
     "data": {
      "image/png": "[encoded data removed]",
      "text/plain": [
       "<Figure size 720x360 with 1 Axes>"
      ]
     },
     "metadata": {
      "needs_background": "light"
     },
     "output_type": "display_data"
    }
   ],
   "source": [
    "plt.figure(figsize=(10,5))\n",
    "sns.boxplot(x=\"brand\", y= \"sales\", data=df);"
   ]
  },
  {
   "cell_type": "code",
   "execution_count": 22,
   "id": "3efc4323",
   "metadata": {},
   "outputs": [
    {
     "data": {
      "image/png": "[encoded data removed]",
      "text/plain": [
       "<Figure size 720x360 with 1 Axes>"
      ]
     },
     "metadata": {
      "needs_background": "light"
     },
     "output_type": "display_data"
    }
   ],
   "source": [
    "plt.figure(figsize=(10,5))\n",
    "sns.lineplot(x=\"battery_capacity\", y=\"sales\", data= df, ci= False);"
   ]
  },
  {
   "cell_type": "code",
   "execution_count": 23,
   "id": "f14dd8e0",
   "metadata": {},
   "outputs": [
    {
     "data": {
      "text/plain": [
       "Realme     0.320930\n",
       "Samsung    0.276744\n",
       "Xiaomi     0.141860\n",
       "Apple      0.130233\n",
       "Poco       0.130233\n",
       "Name: brand, dtype: float64"
      ]
     },
     "execution_count": 23,
     "metadata": {},
     "output_type": "execute_result"
    }
   ],
   "source": [
    "x=df[\"brand\"].value_counts()/df[\"brand\"].count()\n",
    "x"
   ]
  },
  {
   "cell_type": "code",
   "execution_count": 24,
   "id": "dc4dcef2",
   "metadata": {},
   "outputs": [
    {
     "data": {
      "image/png": "[encoded data removed]",
      "text/plain": [
       "<Figure size 504x720 with 1 Axes>"
      ]
     },
     "metadata": {},
     "output_type": "display_data"
    }
   ],
   "source": [
    "plt.figure(figsize=(7,10))\n",
    "plt.pie(x, labels = df[\"brand\"].unique(), autopct = \"%.2f\");"
   ]
  },
  {
   "cell_type": "markdown",
   "id": "1ebbeab3",
   "metadata": {},
   "source": [
    "# Lets perform some test statistics on the data"
   ]
  },
  {
   "cell_type": "code",
   "execution_count": 25,
   "id": "5aa0f36d",
   "metadata": {},
   "outputs": [
    {
     "data": {
      "text/plain": [
       "sales_price        -0.221278\n",
       "ROM                -0.219048\n",
       "RAM                -0.190557\n",
       "display_size       -0.182469\n",
       "num_rear_camera    -0.160202\n",
       "battery_capacity   -0.030358\n",
       "num_front_camera    0.081543\n",
       "discount_percent    0.154938\n",
       "ratings             0.204377\n",
       "num_of_ratings      0.950485\n",
       "sales               1.000000\n",
       "Name: sales, dtype: float64"
      ]
     },
     "execution_count": 25,
     "metadata": {},
     "output_type": "execute_result"
    }
   ],
   "source": [
    "df.corr()[\"sales\"].sort_values()"
   ]
  },
  {
   "cell_type": "code",
   "execution_count": 26,
   "id": "86061e1f",
   "metadata": {},
   "outputs": [],
   "source": [
    "Cor=df.corr()"
   ]
  },
  {
   "cell_type": "code",
   "execution_count": 27,
   "id": "9184a40b",
   "metadata": {},
   "outputs": [
    {
     "data": {
      "image/png": "[encoded data removed]",
      "text/plain": [
       "<Figure size 720x360 with 2 Axes>"
      ]
     },
     "metadata": {
      "needs_background": "light"
     },
     "output_type": "display_data"
    }
   ],
   "source": [
    "plt.figure(figsize=(10,5))\n",
    "sns.heatmap(Cor,annot=True);"
   ]
  },
  {
   "cell_type": "code",
   "execution_count": 28,
   "id": "7dc75672",
   "metadata": {},
   "outputs": [],
   "source": [
    "import pylab"
   ]
  },
  {
   "cell_type": "code",
   "execution_count": 29,
   "id": "e907b5fb",
   "metadata": {},
   "outputs": [
    {
     "data": {
      "image/png": "[encoded data removed]",
      "text/plain": [
       "<Figure size 864x864 with 11 Axes>"
      ]
     },
     "metadata": {
      "needs_background": "light"
     },
     "output_type": "display_data"
    }
   ],
   "source": [
    "plt.figure(figsize=(12,12))\n",
    "plot_num=1\n",
    "for i in df.drop(columns=['brand','model','base_color','processor','screen_size']):\n",
    "        plt.subplot(4,4, plot_num)\n",
    "        st.probplot(df[i],dist=\"norm\", plot=pylab)\n",
    "        plt.xlabel(i)\n",
    "        plot_num+=1"
   ]
  },
  {
   "cell_type": "code",
   "execution_count": 30,
   "id": "8b77b401",
   "metadata": {},
   "outputs": [
    {
     "data": {
      "text/plain": [
       "ROM                 1.495005\n",
       "RAM                 0.746886\n",
       "display_size       -1.553612\n",
       "num_rear_camera    -0.459102\n",
       "num_front_camera    5.590313\n",
       "battery_capacity   -0.283895\n",
       "ratings            -1.732396\n",
       "num_of_ratings      5.850073\n",
       "sales_price         2.595228\n",
       "discount_percent    1.301590\n",
       "sales               4.789041\n",
       "dtype: float64"
      ]
     },
     "execution_count": 30,
     "metadata": {},
     "output_type": "execute_result"
    }
   ],
   "source": [
    "df.skew()"
   ]
  },
  {
   "cell_type": "code",
   "execution_count": 31,
   "id": "b8879d38",
   "metadata": {},
   "outputs": [
    {
     "data": {
      "text/plain": [
       "ROM                  4.281648\n",
       "RAM                  0.503140\n",
       "display_size         5.152325\n",
       "num_rear_camera     -0.759097\n",
       "num_front_camera    33.995688\n",
       "battery_capacity     0.056628\n",
       "ratings             14.043025\n",
       "num_of_ratings      47.930201\n",
       "sales_price          8.980504\n",
       "discount_percent     2.269150\n",
       "sales               31.586558\n",
       "dtype: float64"
      ]
     },
     "execution_count": 31,
     "metadata": {},
     "output_type": "execute_result"
    }
   ],
   "source": [
    "df.kurt()"
   ]
  },
  {
   "cell_type": "code",
   "execution_count": 32,
   "id": "5a1b7e22",
   "metadata": {},
   "outputs": [],
   "source": [
    "x=st.boxcox(df[\"RAM\"])"
   ]
  },
  {
   "cell_type": "code",
   "execution_count": 33,
   "id": "9802c803",
   "metadata": {},
   "outputs": [
    {
     "data": {
      "image/png": "[encoded data removed]",
      "text/plain": [
       "<Figure size 432x288 with 1 Axes>"
      ]
     },
     "metadata": {
      "needs_background": "light"
     },
     "output_type": "display_data"
    }
   ],
   "source": [
    "st.probplot(x[0], dist=\"norm\", plot= pylab);"
   ]
  },
  {
   "cell_type": "code",
   "execution_count": 34,
   "id": "2fbbc795",
   "metadata": {},
   "outputs": [
    {
     "data": {
      "text/plain": [
       "ROM                 1.495005\n",
       "RAM                 0.746886\n",
       "display_size       -1.553612\n",
       "num_rear_camera    -0.459102\n",
       "num_front_camera    5.590313\n",
       "battery_capacity   -0.283895\n",
       "ratings            -1.732396\n",
       "num_of_ratings      5.850073\n",
       "sales_price         2.595228\n",
       "discount_percent    1.301590\n",
       "sales               4.789041\n",
       "dtype: float64"
      ]
     },
     "execution_count": 34,
     "metadata": {},
     "output_type": "execute_result"
    }
   ],
   "source": [
    "df.skew()"
   ]
  },
  {
   "cell_type": "code",
   "execution_count": 35,
   "id": "5515da41",
   "metadata": {},
   "outputs": [],
   "source": [
    "rom=st.yeojohnson(df['ROM'])"
   ]
  },
  {
   "cell_type": "code",
   "execution_count": 36,
   "id": "49b1a5d6",
   "metadata": {},
   "outputs": [],
   "source": [
    "rom=rom[0]"
   ]
  },
  {
   "cell_type": "code",
   "execution_count": 37,
   "id": "0881ba54",
   "metadata": {},
   "outputs": [],
   "source": [
    "rom= pd.Series(rom)"
   ]
  },
  {
   "cell_type": "code",
   "execution_count": 38,
   "id": "1f2287dd",
   "metadata": {},
   "outputs": [
    {
     "data": {
      "text/plain": [
       "-0.0007250183684346065"
      ]
     },
     "execution_count": 38,
     "metadata": {},
     "output_type": "execute_result"
    }
   ],
   "source": [
    "rom.skew()"
   ]
  },
  {
   "cell_type": "code",
   "execution_count": 39,
   "id": "f38b7cce",
   "metadata": {},
   "outputs": [
    {
     "data": {
      "text/plain": [
       "0.040987254365076886"
      ]
     },
     "execution_count": 39,
     "metadata": {},
     "output_type": "execute_result"
    }
   ],
   "source": [
    "rom.kurt()"
   ]
  },
  {
   "cell_type": "markdown",
   "id": "73c4d63e",
   "metadata": {},
   "source": [
    "# Check whether sale of the mobile phone is decided by keeping brand as the only key factor or there are other factors too?"
   ]
  },
  {
   "cell_type": "code",
   "execution_count": 40,
   "id": "4737c7eb",
   "metadata": {},
   "outputs": [
    {
     "data": {
      "text/html": [
       "<div>\n",
       "<style scoped>\n",
       "    .dataframe tbody tr th:only-of-type {\n",
       "        vertical-align: middle;\n",
       "    }\n",
       "\n",
       "    .dataframe tbody tr th {\n",
       "        vertical-align: top;\n",
       "    }\n",
       "\n",
       "    .dataframe thead th {\n",
       "        text-align: right;\n",
       "    }\n",
       "</style>\n",
       "<table border=\"1\" class=\"dataframe\">\n",
       "  <thead>\n",
       "    <tr style=\"text-align: right;\">\n",
       "      <th>brand</th>\n",
       "      <th>Apple</th>\n",
       "      <th>Poco</th>\n",
       "      <th>Realme</th>\n",
       "      <th>Samsung</th>\n",
       "      <th>Xiaomi</th>\n",
       "    </tr>\n",
       "    <tr>\n",
       "      <th>sales</th>\n",
       "      <th></th>\n",
       "      <th></th>\n",
       "      <th></th>\n",
       "      <th></th>\n",
       "      <th></th>\n",
       "    </tr>\n",
       "  </thead>\n",
       "  <tbody>\n",
       "    <tr>\n",
       "      <th>0.00</th>\n",
       "      <td>0</td>\n",
       "      <td>0</td>\n",
       "      <td>0</td>\n",
       "      <td>3</td>\n",
       "      <td>0</td>\n",
       "    </tr>\n",
       "    <tr>\n",
       "      <th>0.01</th>\n",
       "      <td>0</td>\n",
       "      <td>0</td>\n",
       "      <td>0</td>\n",
       "      <td>3</td>\n",
       "      <td>0</td>\n",
       "    </tr>\n",
       "    <tr>\n",
       "      <th>0.02</th>\n",
       "      <td>0</td>\n",
       "      <td>0</td>\n",
       "      <td>0</td>\n",
       "      <td>2</td>\n",
       "      <td>0</td>\n",
       "    </tr>\n",
       "    <tr>\n",
       "      <th>0.03</th>\n",
       "      <td>0</td>\n",
       "      <td>0</td>\n",
       "      <td>0</td>\n",
       "      <td>3</td>\n",
       "      <td>0</td>\n",
       "    </tr>\n",
       "    <tr>\n",
       "      <th>0.05</th>\n",
       "      <td>0</td>\n",
       "      <td>0</td>\n",
       "      <td>3</td>\n",
       "      <td>0</td>\n",
       "      <td>0</td>\n",
       "    </tr>\n",
       "    <tr>\n",
       "      <th>...</th>\n",
       "      <td>...</td>\n",
       "      <td>...</td>\n",
       "      <td>...</td>\n",
       "      <td>...</td>\n",
       "      <td>...</td>\n",
       "    </tr>\n",
       "    <tr>\n",
       "      <th>231.79</th>\n",
       "      <td>0</td>\n",
       "      <td>1</td>\n",
       "      <td>0</td>\n",
       "      <td>0</td>\n",
       "      <td>0</td>\n",
       "    </tr>\n",
       "    <tr>\n",
       "      <th>392.73</th>\n",
       "      <td>0</td>\n",
       "      <td>0</td>\n",
       "      <td>0</td>\n",
       "      <td>0</td>\n",
       "      <td>1</td>\n",
       "    </tr>\n",
       "    <tr>\n",
       "      <th>427.22</th>\n",
       "      <td>0</td>\n",
       "      <td>1</td>\n",
       "      <td>0</td>\n",
       "      <td>0</td>\n",
       "      <td>0</td>\n",
       "    </tr>\n",
       "    <tr>\n",
       "      <th>493.98</th>\n",
       "      <td>0</td>\n",
       "      <td>0</td>\n",
       "      <td>0</td>\n",
       "      <td>0</td>\n",
       "      <td>1</td>\n",
       "    </tr>\n",
       "    <tr>\n",
       "      <th>550.19</th>\n",
       "      <td>0</td>\n",
       "      <td>0</td>\n",
       "      <td>0</td>\n",
       "      <td>0</td>\n",
       "      <td>1</td>\n",
       "    </tr>\n",
       "  </tbody>\n",
       "</table>\n",
       "<p>216 rows × 5 columns</p>\n",
       "</div>"
      ],
      "text/plain": [
       "brand   Apple  Poco  Realme  Samsung  Xiaomi\n",
       "sales                                       \n",
       "0.00        0     0       0        3       0\n",
       "0.01        0     0       0        3       0\n",
       "0.02        0     0       0        2       0\n",
       "0.03        0     0       0        3       0\n",
       "0.05        0     0       3        0       0\n",
       "...       ...   ...     ...      ...     ...\n",
       "231.79      0     1       0        0       0\n",
       "392.73      0     0       0        0       1\n",
       "427.22      0     1       0        0       0\n",
       "493.98      0     0       0        0       1\n",
       "550.19      0     0       0        0       1\n",
       "\n",
       "[216 rows x 5 columns]"
      ]
     },
     "execution_count": 40,
     "metadata": {},
     "output_type": "execute_result"
    }
   ],
   "source": [
    "Obs_table=pd.crosstab(df[\"sales\"],df[\"brand\"])\n",
    "Obs_table"
   ]
  },
  {
   "cell_type": "code",
   "execution_count": 41,
   "id": "c3da3ac8",
   "metadata": {},
   "outputs": [
    {
     "name": "stdout",
     "output_type": "stream",
     "text": [
      "Reject null hypothesis which means Sale is not Dependent on Brand there are other facotrs. \n"
     ]
    }
   ],
   "source": [
    "v=st.chi2_contingency(Obs_table)\n",
    "\n",
    "# H0 = Sale is fully dependent on brand.\n",
    "# H1 = Sale is not Dependent on Brand there are other facotrs.\n",
    "if v[1]<0.05:\n",
    "    print(\"Reject null hypothesis which means Sale is not Dependent on Brand there are other facotrs. \")\n",
    "    \n",
    "else:\n",
    "    print(\"Accept null hypothesis which means Sale is fully dependent on brand . \")"
   ]
  },
  {
   "cell_type": "code",
   "execution_count": 42,
   "id": "6787c0d9",
   "metadata": {},
   "outputs": [
    {
     "data": {
      "text/plain": [
       "array(['Apple', 'Poco', 'Realme', 'Samsung', 'Xiaomi'], dtype=object)"
      ]
     },
     "execution_count": 42,
     "metadata": {},
     "output_type": "execute_result"
    }
   ],
   "source": [
    "df.brand.unique()"
   ]
  },
  {
   "cell_type": "code",
   "execution_count": 43,
   "id": "d1e168f5",
   "metadata": {},
   "outputs": [
    {
     "data": {
      "text/plain": [
       "array(['iPhone SE', 'iPhone 12 Mini', 'iPhone XR', 'iPhone 12',\n",
       "       'iPhone 8', 'iPhone 7 Plus', 'C3', 'M3', 'M2 Reloaded', 'X3 Pro',\n",
       "       'M3 Pro 5G', 'M2 Pro', 'F3 GT', 'X3', 'F1', 'M2', 'X2', 'C20',\n",
       "       'C11 2021', 'C21Y', 'Narzo 30 5G', 'C21', 'Narzo 30', '8s 5G',\n",
       "       'Narzo 30A', '8 5G', '8 Pro', 'C15', '8', 'GT Master Edition',\n",
       "       'X7 5G', '7', 'Narzo 30 Pro 5G', 'C12', 'C11', 'X7 Max', 'GT 5G',\n",
       "       '5 Pro', '3i', 'Narzo 20 Pro', '7 Pro', 'X3 SuperZoom',\n",
       "       'X7 Pro 5G', 'C2', '6', '6i', 'C25', 'Narzo 20', 'Narzo 10A',\n",
       "       'Narzo 20A', 'Narzo 10', 'Galaxy F22', 'Galaxy F12', 'M02s',\n",
       "       'Galaxy M02', 'Galaxy A22', 'Galaxy A52s 5G', 'Galaxy M32',\n",
       "       'Galaxy Z Flip3 5G', 'Galaxy A22 5G', 'Galaxy A21s', 'Galaxy A03s',\n",
       "       'Galaxy M31', 'Galaxy A51', 'Galaxy A72', 'Galaxy A12',\n",
       "       'Galaxy F62', 'Galaxy A31', 'Galaxy A52', 'Galaxy F02s',\n",
       "       'Galaxy M11', 'Galaxy F41', 'Galaxy A71', 'Galaxy Note 20',\n",
       "       'Galaxy Z Fold3 5G', 'Galaxy M01', 'Galaxy A50s',\n",
       "       'Galaxy Note 20 Ultra 5G', 'Galaxy S20 FE', 'Galaxy Grand 2',\n",
       "       'Galaxy Fold 2', 'Galaxy A7', 'Galaxy J6', 'Galaxy J7 - 6',\n",
       "       'Galaxy A10', 'Galaxy A20', 'Galaxy A80', 'Galaxy S21 Plus',\n",
       "       'Galaxy M42', 'Galaxy M30s', 'Galaxy A20s', 'Galaxy Note10 Lite',\n",
       "       'Galaxy S21', 'Galaxy S10', 'Redmi 9A', 'Mi 11X', 'Redmi 8A Dual',\n",
       "       'Mi A3', 'Redmi 9', 'Mi 11 Lite', 'Redmi Note 7 Pro', 'Mi 10i',\n",
       "       'Redmi Note 6 Pro', 'Redmi Note 9 Pro', 'Redmi Note 5 Pro',\n",
       "       'Redmi Note 7', 'Redmi Y3', 'Redmi K20', 'Redmi Note 4',\n",
       "       'Redmi Note 5', 'Mi 10T', 'Mi 10T Pro', 'Redmi Y2', 'Mi 10',\n",
       "       'Redmi 6 Pro', 'Mi 11X Pro 5G', 'Mi A1', 'Redmi 6A', 'Redmi 5'],\n",
       "      dtype=object)"
      ]
     },
     "execution_count": 43,
     "metadata": {},
     "output_type": "execute_result"
    }
   ],
   "source": [
    "df.model.unique()"
   ]
  },
  {
   "cell_type": "code",
   "execution_count": 44,
   "id": "85715d58",
   "metadata": {},
   "outputs": [
    {
     "data": {
      "text/plain": [
       "array(['Black', 'Red', 'Others', 'Blue', 'White', 'Green', 'Purple',\n",
       "       'Yellow', 'Gold', 'Bronze', 'Silver', 'Gray'], dtype=object)"
      ]
     },
     "execution_count": 44,
     "metadata": {},
     "output_type": "execute_result"
    }
   ],
   "source": [
    "df.base_color.unique()"
   ]
  },
  {
   "cell_type": "code",
   "execution_count": 45,
   "id": "5cb16982",
   "metadata": {},
   "outputs": [
    {
     "data": {
      "text/plain": [
       "array(['Water', 'Ceramic', 'iOS', 'MediaTek', 'Qualcomm', 'Others',\n",
       "       'Exynos'], dtype=object)"
      ]
     },
     "execution_count": 45,
     "metadata": {},
     "output_type": "execute_result"
    }
   ],
   "source": [
    "df.processor.unique()"
   ]
  },
  {
   "cell_type": "code",
   "execution_count": 46,
   "id": "5be55bb5",
   "metadata": {},
   "outputs": [
    {
     "data": {
      "text/plain": [
       "array(['Very Small', 'Small', 'Medium', 'Large', 'Very Large'],\n",
       "      dtype=object)"
      ]
     },
     "execution_count": 46,
     "metadata": {},
     "output_type": "execute_result"
    }
   ],
   "source": [
    "df.screen_size.unique()"
   ]
  },
  {
   "cell_type": "code",
   "execution_count": 47,
   "id": "d695a83c",
   "metadata": {},
   "outputs": [],
   "source": [
    "from sklearn.preprocessing import LabelEncoder"
   ]
  },
  {
   "cell_type": "markdown",
   "id": "bf995e59",
   "metadata": {},
   "source": [
    "# Label Encoding for the Categorical Variables."
   ]
  },
  {
   "cell_type": "code",
   "execution_count": 48,
   "id": "0bdd517b",
   "metadata": {},
   "outputs": [],
   "source": [
    "encoder={}\n",
    "for i in df.select_dtypes(include=\"object\").columns:\n",
    "    encoder[i]=LabelEncoder()\n",
    "   ( df[i]=encoder[i].fit_transform(df[i]))"
   ]
  },
  {
   "cell_type": "code",
   "execution_count": 49,
   "id": "cd0667d5",
   "metadata": {},
   "outputs": [],
   "source": [
    "encoder={}\n",
    "for i in df.select_dtypes(include=\"float\").columns:\n",
    "    encoder[i]=LabelEncoder()\n",
    "    df[i]=encoder[i].fit_transform(df[i])"
   ]
  },
  {
   "cell_type": "code",
   "execution_count": 50,
   "id": "2c04a2d1",
   "metadata": {},
   "outputs": [
    {
     "data": {
      "text/html": [
       "<div>\n",
       "<style scoped>\n",
       "    .dataframe tbody tr th:only-of-type {\n",
       "        vertical-align: middle;\n",
       "    }\n",
       "\n",
       "    .dataframe tbody tr th {\n",
       "        vertical-align: top;\n",
       "    }\n",
       "\n",
       "    .dataframe thead th {\n",
       "        text-align: right;\n",
       "    }\n",
       "</style>\n",
       "<table border=\"1\" class=\"dataframe\">\n",
       "  <thead>\n",
       "    <tr style=\"text-align: right;\">\n",
       "      <th></th>\n",
       "      <th>brand</th>\n",
       "      <th>model</th>\n",
       "      <th>base_color</th>\n",
       "      <th>processor</th>\n",
       "      <th>screen_size</th>\n",
       "      <th>ROM</th>\n",
       "      <th>RAM</th>\n",
       "      <th>display_size</th>\n",
       "      <th>num_rear_camera</th>\n",
       "      <th>num_front_camera</th>\n",
       "      <th>battery_capacity</th>\n",
       "      <th>ratings</th>\n",
       "      <th>num_of_ratings</th>\n",
       "      <th>sales_price</th>\n",
       "      <th>discount_percent</th>\n",
       "      <th>sales</th>\n",
       "    </tr>\n",
       "  </thead>\n",
       "  <tbody>\n",
       "    <tr>\n",
       "      <th>0</th>\n",
       "      <td>0</td>\n",
       "      <td>117</td>\n",
       "      <td>0</td>\n",
       "      <td>5</td>\n",
       "      <td>4</td>\n",
       "      <td>64</td>\n",
       "      <td>2</td>\n",
       "      <td>0</td>\n",
       "      <td>1</td>\n",
       "      <td>1</td>\n",
       "      <td>1800</td>\n",
       "      <td>8</td>\n",
       "      <td>38645</td>\n",
       "      <td>32999</td>\n",
       "      <td>16</td>\n",
       "      <td>197</td>\n",
       "    </tr>\n",
       "    <tr>\n",
       "      <th>1</th>\n",
       "      <td>0</td>\n",
       "      <td>114</td>\n",
       "      <td>8</td>\n",
       "      <td>0</td>\n",
       "      <td>2</td>\n",
       "      <td>64</td>\n",
       "      <td>4</td>\n",
       "      <td>2</td>\n",
       "      <td>2</td>\n",
       "      <td>1</td>\n",
       "      <td>2815</td>\n",
       "      <td>8</td>\n",
       "      <td>244</td>\n",
       "      <td>57149</td>\n",
       "      <td>3</td>\n",
       "      <td>43</td>\n",
       "    </tr>\n",
       "    <tr>\n",
       "      <th>2</th>\n",
       "      <td>0</td>\n",
       "      <td>117</td>\n",
       "      <td>8</td>\n",
       "      <td>5</td>\n",
       "      <td>4</td>\n",
       "      <td>64</td>\n",
       "      <td>2</td>\n",
       "      <td>0</td>\n",
       "      <td>1</td>\n",
       "      <td>1</td>\n",
       "      <td>1800</td>\n",
       "      <td>8</td>\n",
       "      <td>38645</td>\n",
       "      <td>32999</td>\n",
       "      <td>16</td>\n",
       "      <td>197</td>\n",
       "    </tr>\n",
       "    <tr>\n",
       "      <th>3</th>\n",
       "      <td>0</td>\n",
       "      <td>118</td>\n",
       "      <td>6</td>\n",
       "      <td>6</td>\n",
       "      <td>1</td>\n",
       "      <td>64</td>\n",
       "      <td>3</td>\n",
       "      <td>8</td>\n",
       "      <td>1</td>\n",
       "      <td>1</td>\n",
       "      <td>2942</td>\n",
       "      <td>9</td>\n",
       "      <td>5366</td>\n",
       "      <td>42999</td>\n",
       "      <td>9</td>\n",
       "      <td>139</td>\n",
       "    </tr>\n",
       "    <tr>\n",
       "      <th>4</th>\n",
       "      <td>0</td>\n",
       "      <td>113</td>\n",
       "      <td>8</td>\n",
       "      <td>0</td>\n",
       "      <td>1</td>\n",
       "      <td>128</td>\n",
       "      <td>4</td>\n",
       "      <td>8</td>\n",
       "      <td>2</td>\n",
       "      <td>1</td>\n",
       "      <td>2815</td>\n",
       "      <td>9</td>\n",
       "      <td>745</td>\n",
       "      <td>69149</td>\n",
       "      <td>1</td>\n",
       "      <td>82</td>\n",
       "    </tr>\n",
       "  </tbody>\n",
       "</table>\n",
       "</div>"
      ],
      "text/plain": [
       "   brand  model  base_color  processor  screen_size  ROM  RAM  display_size  \\\n",
       "0      0    117           0          5            4   64    2             0   \n",
       "1      0    114           8          0            2   64    4             2   \n",
       "2      0    117           8          5            4   64    2             0   \n",
       "3      0    118           6          6            1   64    3             8   \n",
       "4      0    113           8          0            1  128    4             8   \n",
       "\n",
       "   num_rear_camera  num_front_camera  battery_capacity  ratings  \\\n",
       "0                1                 1              1800        8   \n",
       "1                2                 1              2815        8   \n",
       "2                1                 1              1800        8   \n",
       "3                1                 1              2942        9   \n",
       "4                2                 1              2815        9   \n",
       "\n",
       "   num_of_ratings  sales_price  discount_percent  sales  \n",
       "0           38645        32999                16    197  \n",
       "1             244        57149                 3     43  \n",
       "2           38645        32999                16    197  \n",
       "3            5366        42999                 9    139  \n",
       "4             745        69149                 1     82  "
      ]
     },
     "execution_count": 50,
     "metadata": {},
     "output_type": "execute_result"
    }
   ],
   "source": [
    "df.head()"
   ]
  },
  {
   "cell_type": "code",
   "execution_count": 51,
   "id": "758014f9",
   "metadata": {},
   "outputs": [
    {
     "data": {
      "text/plain": [
       "brand              -0.289453\n",
       "model              -0.021929\n",
       "base_color          0.618806\n",
       "processor          -0.046487\n",
       "screen_size         1.567748\n",
       "ROM                 1.495005\n",
       "RAM                 0.746886\n",
       "display_size       -1.585146\n",
       "num_rear_camera    -0.459102\n",
       "num_front_camera    5.590313\n",
       "battery_capacity   -0.283895\n",
       "ratings            -0.399390\n",
       "num_of_ratings      5.850073\n",
       "sales_price         2.595228\n",
       "discount_percent    0.882709\n",
       "sales               0.010862\n",
       "dtype: float64"
      ]
     },
     "execution_count": 51,
     "metadata": {},
     "output_type": "execute_result"
    }
   ],
   "source": [
    "df.skew()"
   ]
  },
  {
   "cell_type": "code",
   "execution_count": 52,
   "id": "98141dc4",
   "metadata": {},
   "outputs": [
    {
     "data": {
      "text/plain": [
       "brand               -0.737742\n",
       "model               -1.404299\n",
       "base_color          -1.215733\n",
       "processor           -0.822730\n",
       "screen_size          3.272918\n",
       "ROM                  4.281648\n",
       "RAM                  0.503140\n",
       "display_size         2.470646\n",
       "num_rear_camera     -0.759097\n",
       "num_front_camera    33.995688\n",
       "battery_capacity     0.056628\n",
       "ratings              1.567766\n",
       "num_of_ratings      47.930201\n",
       "sales_price          8.980504\n",
       "discount_percent     0.233541\n",
       "sales               -1.109299\n",
       "dtype: float64"
      ]
     },
     "execution_count": 52,
     "metadata": {},
     "output_type": "execute_result"
    }
   ],
   "source": [
    "df.kurt()"
   ]
  },
  {
   "cell_type": "code",
   "execution_count": 53,
   "id": "49678261",
   "metadata": {},
   "outputs": [],
   "source": [
    "SS=st.yeojohnson(df['screen_size'])\n",
    "SS=SS[0]\n",
    "SS= pd.Series(SS)\n"
   ]
  },
  {
   "cell_type": "code",
   "execution_count": 54,
   "id": "a6a685bb",
   "metadata": {},
   "outputs": [
    {
     "name": "stdout",
     "output_type": "stream",
     "text": [
      "0.3420303915927008\n",
      "-1.7504375034234247\n"
     ]
    }
   ],
   "source": [
    "print(SS.skew())\n",
    "print(SS.kurt())"
   ]
  },
  {
   "cell_type": "code",
   "execution_count": 55,
   "id": "1289bf7b",
   "metadata": {},
   "outputs": [],
   "source": [
    "ROM=st.yeojohnson(df['ROM'])\n",
    "ROM=ROM[0]\n",
    "ROM= pd.Series(ROM)\n"
   ]
  },
  {
   "cell_type": "code",
   "execution_count": 56,
   "id": "4138ce54",
   "metadata": {},
   "outputs": [
    {
     "name": "stdout",
     "output_type": "stream",
     "text": [
      "-0.0007250183684346065\n",
      "0.040987254365076886\n"
     ]
    }
   ],
   "source": [
    "print(ROM.skew())\n",
    "print(ROM.kurt())"
   ]
  },
  {
   "cell_type": "code",
   "execution_count": 57,
   "id": "214ff03f",
   "metadata": {},
   "outputs": [],
   "source": [
    "display_size=st.yeojohnson(df['display_size'])\n",
    "display_size=display_size[0]\n",
    "display_size= pd.Series(display_size)"
   ]
  },
  {
   "cell_type": "code",
   "execution_count": 58,
   "id": "d6226825",
   "metadata": {},
   "outputs": [
    {
     "name": "stdout",
     "output_type": "stream",
     "text": [
      "-0.3763531556242744\n",
      "0.0053573093999848\n"
     ]
    }
   ],
   "source": [
    "print(display_size.skew())\n",
    "print(display_size.kurt())"
   ]
  },
  {
   "cell_type": "code",
   "execution_count": 59,
   "id": "bb57285a",
   "metadata": {},
   "outputs": [],
   "source": [
    "corr=df.corr()"
   ]
  },
  {
   "cell_type": "code",
   "execution_count": 60,
   "id": "5c2b4ebc",
   "metadata": {},
   "outputs": [
    {
     "data": {
      "image/png": "[encoded data removed]",
      "text/plain": [
       "<Figure size 720x360 with 2 Axes>"
      ]
     },
     "metadata": {
      "needs_background": "light"
     },
     "output_type": "display_data"
    }
   ],
   "source": [
    "plt.figure(figsize=(10,5))\n",
    "sns.heatmap(Cor,annot=True);"
   ]
  },
  {
   "cell_type": "markdown",
   "id": "1c272f6f",
   "metadata": {},
   "source": [
    "# Scalling of data "
   ]
  },
  {
   "cell_type": "code",
   "execution_count": 61,
   "id": "c4dfa123",
   "metadata": {},
   "outputs": [],
   "source": [
    "from sklearn.preprocessing import MinMaxScaler"
   ]
  },
  {
   "cell_type": "code",
   "execution_count": 62,
   "id": "02bc5e96",
   "metadata": {},
   "outputs": [
    {
     "data": {
      "text/plain": [
       "Index(['brand', 'model', 'base_color', 'processor', 'screen_size', 'ROM',\n",
       "       'RAM', 'display_size', 'num_rear_camera', 'num_front_camera',\n",
       "       'battery_capacity', 'ratings', 'num_of_ratings', 'sales_price',\n",
       "       'discount_percent', 'sales'],\n",
       "      dtype='object')"
      ]
     },
     "execution_count": 62,
     "metadata": {},
     "output_type": "execute_result"
    }
   ],
   "source": [
    "df.columns"
   ]
  },
  {
   "cell_type": "code",
   "execution_count": 63,
   "id": "05e3db1f",
   "metadata": {},
   "outputs": [],
   "source": [
    "X=df.drop(columns=[\"sales\"])\n",
    "y=df[\"sales\"] "
   ]
  },
  {
   "cell_type": "code",
   "execution_count": 64,
   "id": "dc01e1b6",
   "metadata": {},
   "outputs": [],
   "source": [
    "scaler=MinMaxScaler()\n",
    "X_scaled=scaler.fit_transform(X)"
   ]
  },
  {
   "cell_type": "markdown",
   "id": "5bdc9b20",
   "metadata": {},
   "source": [
    "# Data Split"
   ]
  },
  {
   "cell_type": "code",
   "execution_count": 65,
   "id": "84b2e438",
   "metadata": {},
   "outputs": [],
   "source": [
    "from sklearn.model_selection import train_test_split"
   ]
  },
  {
   "cell_type": "code",
   "execution_count": 66,
   "id": "1f05137b",
   "metadata": {},
   "outputs": [],
   "source": [
    "X_train, X_test, Y_train, Y_test= train_test_split(X_scaled,y, test_size=0.10,random_state=235)"
   ]
  },
  {
   "cell_type": "code",
   "execution_count": 67,
   "id": "ed687acb",
   "metadata": {},
   "outputs": [
    {
     "name": "stdout",
     "output_type": "stream",
     "text": [
      "(387, 15)\n"
     ]
    }
   ],
   "source": [
    "print(X_train.shape)"
   ]
  },
  {
   "cell_type": "code",
   "execution_count": 68,
   "id": "06151523",
   "metadata": {},
   "outputs": [
    {
     "name": "stdout",
     "output_type": "stream",
     "text": [
      "(387,)\n"
     ]
    }
   ],
   "source": [
    "print(Y_train.shape)"
   ]
  },
  {
   "cell_type": "markdown",
   "id": "7e919038",
   "metadata": {},
   "source": [
    "# Applying Linear Regression Model to check the accuracy."
   ]
  },
  {
   "cell_type": "code",
   "execution_count": 69,
   "id": "5d9cf8ea",
   "metadata": {},
   "outputs": [],
   "source": [
    "from sklearn.linear_model import LinearRegression"
   ]
  },
  {
   "cell_type": "code",
   "execution_count": 70,
   "id": "8a8ac0ec",
   "metadata": {},
   "outputs": [
    {
     "data": {
      "text/html": [
       "<style>#sk-container-id-1 {color: black;background-color: white;}#sk-container-id-1 pre{padding: 0;}#sk-container-id-1 div.sk-toggleable {background-color: white;}#sk-container-id-1 label.sk-toggleable__label {cursor: pointer;display: block;width: 100%;margin-bottom: 0;padding: 0.3em;box-sizing: border-box;text-align: center;}#sk-container-id-1 label.sk-toggleable__label-arrow:before {content: \"▸\";float: left;margin-right: 0.25em;color: #696969;}#sk-container-id-1 label.sk-toggleable__label-arrow:hover:before {color: black;}#sk-container-id-1 div.sk-estimator:hover label.sk-toggleable__label-arrow:before {color: black;}#sk-container-id-1 div.sk-toggleable__content {max-height: 0;max-width: 0;overflow: hidden;text-align: left;background-color: #f0f8ff;}#sk-container-id-1 div.sk-toggleable__content pre {margin: 0.2em;color: black;border-radius: 0.25em;background-color: #f0f8ff;}#sk-container-id-1 input.sk-toggleable__control:checked~div.sk-toggleable__content {max-height: 200px;max-width: 100%;overflow: auto;}#sk-container-id-1 input.sk-toggleable__control:checked~label.sk-toggleable__label-arrow:before {content: \"▾\";}#sk-container-id-1 div.sk-estimator input.sk-toggleable__control:checked~label.sk-toggleable__label {background-color: #d4ebff;}#sk-container-id-1 div.sk-label input.sk-toggleable__control:checked~label.sk-toggleable__label {background-color: #d4ebff;}#sk-container-id-1 input.sk-hidden--visually {border: 0;clip: rect(1px 1px 1px 1px);clip: rect(1px, 1px, 1px, 1px);height: 1px;margin: -1px;overflow: hidden;padding: 0;position: absolute;width: 1px;}#sk-container-id-1 div.sk-estimator {font-family: monospace;background-color: #f0f8ff;border: 1px dotted black;border-radius: 0.25em;box-sizing: border-box;margin-bottom: 0.5em;}#sk-container-id-1 div.sk-estimator:hover {background-color: #d4ebff;}#sk-container-id-1 div.sk-parallel-item::after {content: \"\";width: 100%;border-bottom: 1px solid gray;flex-grow: 1;}#sk-container-id-1 div.sk-label:hover label.sk-toggleable__label {background-color: #d4ebff;}#sk-container-id-1 div.sk-serial::before {content: \"\";position: absolute;border-left: 1px solid gray;box-sizing: border-box;top: 0;bottom: 0;left: 50%;z-index: 0;}#sk-container-id-1 div.sk-serial {display: flex;flex-direction: column;align-items: center;background-color: white;padding-right: 0.2em;padding-left: 0.2em;position: relative;}#sk-container-id-1 div.sk-item {position: relative;z-index: 1;}#sk-container-id-1 div.sk-parallel {display: flex;align-items: stretch;justify-content: center;background-color: white;position: relative;}#sk-container-id-1 div.sk-item::before, #sk-container-id-1 div.sk-parallel-item::before {content: \"\";position: absolute;border-left: 1px solid gray;box-sizing: border-box;top: 0;bottom: 0;left: 50%;z-index: -1;}#sk-container-id-1 div.sk-parallel-item {display: flex;flex-direction: column;z-index: 1;position: relative;background-color: white;}#sk-container-id-1 div.sk-parallel-item:first-child::after {align-self: flex-end;width: 50%;}#sk-container-id-1 div.sk-parallel-item:last-child::after {align-self: flex-start;width: 50%;}#sk-container-id-1 div.sk-parallel-item:only-child::after {width: 0;}#sk-container-id-1 div.sk-dashed-wrapped {border: 1px dashed gray;margin: 0 0.4em 0.5em 0.4em;box-sizing: border-box;padding-bottom: 0.4em;background-color: white;}#sk-container-id-1 div.sk-label label {font-family: monospace;font-weight: bold;display: inline-block;line-height: 1.2em;}#sk-container-id-1 div.sk-label-container {text-align: center;}#sk-container-id-1 div.sk-container {/* jupyter's `normalize.less` sets `[hidden] { display: none; }` but bootstrap.min.css set `[hidden] { display: none !important; }` so we also need the `!important` here to be able to override the default hidden behavior on the sphinx rendered scikit-learn.org. See: https://github.com/scikit-learn/scikit-learn/issues/21755 */display: inline-block !important;position: relative;}#sk-container-id-1 div.sk-text-repr-fallback {display: none;}</style><div id=\"sk-container-id-1\" class=\"sk-top-container\"><div class=\"sk-text-repr-fallback\"><pre>LinearRegression()</pre><b>In a Jupyter environment, please rerun this cell to show the HTML representation or trust the notebook. <br />On GitHub, the HTML representation is unable to render, please try loading this page with nbviewer.org.</b></div><div class=\"sk-container\" hidden><div class=\"sk-item\"><div class=\"sk-estimator sk-toggleable\"><input class=\"sk-toggleable__control sk-hidden--visually\" id=\"sk-estimator-id-1\" type=\"checkbox\" checked><label for=\"sk-estimator-id-1\" class=\"sk-toggleable__label sk-toggleable__label-arrow\">LinearRegression</label><div class=\"sk-toggleable__content\"><pre>LinearRegression()</pre></div></div></div></div></div>"
      ],
      "text/plain": [
       "LinearRegression()"
      ]
     },
     "execution_count": 70,
     "metadata": {},
     "output_type": "execute_result"
    }
   ],
   "source": [
    "lr=LinearRegression()\n",
    "lr.fit(X_train,Y_train)"
   ]
  },
  {
   "cell_type": "code",
   "execution_count": 71,
   "id": "169fe0ee",
   "metadata": {},
   "outputs": [
    {
     "data": {
      "text/plain": [
       "-78.48112435433572"
      ]
     },
     "execution_count": 71,
     "metadata": {},
     "output_type": "execute_result"
    }
   ],
   "source": [
    "lr.intercept_"
   ]
  },
  {
   "cell_type": "code",
   "execution_count": 72,
   "id": "175adceb",
   "metadata": {},
   "outputs": [
    {
     "data": {
      "text/plain": [
       "array([ -49.56761692,   17.3963318 ,    4.50610931,  -10.84813782,\n",
       "        124.2245738 ,    0.45433206,   -9.66000856,  108.8534649 ,\n",
       "         -4.11496285,   15.53398646,   38.42053953,  141.81763093,\n",
       "        270.34905186, -205.18244065,   42.40276117])"
      ]
     },
     "execution_count": 72,
     "metadata": {},
     "output_type": "execute_result"
    }
   ],
   "source": [
    "lr.coef_"
   ]
  },
  {
   "cell_type": "code",
   "execution_count": 73,
   "id": "89b9492a",
   "metadata": {},
   "outputs": [],
   "source": [
    "Y_pred=lr.predict(X_test)"
   ]
  },
  {
   "cell_type": "code",
   "execution_count": 74,
   "id": "ab1db7e8",
   "metadata": {},
   "outputs": [
    {
     "data": {
      "text/plain": [
       "array([ 87.34658643, 148.62739647, 107.56580995, 101.48679106,\n",
       "       207.44349965])"
      ]
     },
     "execution_count": 74,
     "metadata": {},
     "output_type": "execute_result"
    }
   ],
   "source": [
    "Y_pred[0:5]"
   ]
  },
  {
   "cell_type": "markdown",
   "id": "3b497f7c",
   "metadata": {},
   "source": [
    "# Performance Matrix"
   ]
  },
  {
   "cell_type": "code",
   "execution_count": 75,
   "id": "5da8eca9",
   "metadata": {},
   "outputs": [],
   "source": [
    "from sklearn.metrics import mean_absolute_error, mean_absolute_percentage_error, mean_squared_error, r2_score"
   ]
  },
  {
   "cell_type": "code",
   "execution_count": 76,
   "id": "1ce5f1e1",
   "metadata": {},
   "outputs": [
    {
     "data": {
      "text/plain": [
       "0.6261266894114301"
      ]
     },
     "execution_count": 76,
     "metadata": {},
     "output_type": "execute_result"
    }
   ],
   "source": [
    "r2_score(Y_test,Y_pred)"
   ]
  },
  {
   "cell_type": "code",
   "execution_count": 77,
   "id": "6cc8d833",
   "metadata": {},
   "outputs": [],
   "source": [
    "mse=mean_squared_error(Y_test,Y_pred)"
   ]
  },
  {
   "cell_type": "code",
   "execution_count": 78,
   "id": "fcdc8bc7",
   "metadata": {},
   "outputs": [
    {
     "data": {
      "text/plain": [
       "37.95378219947351"
      ]
     },
     "execution_count": 78,
     "metadata": {},
     "output_type": "execute_result"
    }
   ],
   "source": [
    "np.sqrt(mse)"
   ]
  },
  {
   "cell_type": "code",
   "execution_count": 79,
   "id": "af6959b0",
   "metadata": {},
   "outputs": [
    {
     "data": {
      "text/plain": [
       "31.024389247824274"
      ]
     },
     "execution_count": 79,
     "metadata": {},
     "output_type": "execute_result"
    }
   ],
   "source": [
    "mae= mean_absolute_error(Y_test,Y_pred)\n",
    "mae\n"
   ]
  },
  {
   "cell_type": "code",
   "execution_count": 80,
   "id": "8bb39a38",
   "metadata": {},
   "outputs": [
    {
     "data": {
      "image/png": "[encoded data removed]",
      "text/plain": [
       "<Figure size 360x360 with 1 Axes>"
      ]
     },
     "metadata": {
      "needs_background": "light"
     },
     "output_type": "display_data"
    }
   ],
   "source": [
    "sns.relplot(X_test[:,0],Y_test, color= \"Red\" )\n",
    "sns.regplot(X_test[:,0],Y_pred, ci=False)\n",
    "plt.show()"
   ]
  },
  {
   "cell_type": "code",
   "execution_count": 81,
   "id": "bac2c98a",
   "metadata": {},
   "outputs": [],
   "source": [
    "from sklearn.linear_model import Lasso,Ridge,ElasticNet"
   ]
  },
  {
   "cell_type": "code",
   "execution_count": 82,
   "id": "88acd454",
   "metadata": {},
   "outputs": [],
   "source": [
    "lasso=Lasso()"
   ]
  },
  {
   "cell_type": "code",
   "execution_count": 83,
   "id": "8c0d0d95",
   "metadata": {},
   "outputs": [
    {
     "data": {
      "text/html": [
       "<style>#sk-container-id-2 {color: black;background-color: white;}#sk-container-id-2 pre{padding: 0;}#sk-container-id-2 div.sk-toggleable {background-color: white;}#sk-container-id-2 label.sk-toggleable__label {cursor: pointer;display: block;width: 100%;margin-bottom: 0;padding: 0.3em;box-sizing: border-box;text-align: center;}#sk-container-id-2 label.sk-toggleable__label-arrow:before {content: \"▸\";float: left;margin-right: 0.25em;color: #696969;}#sk-container-id-2 label.sk-toggleable__label-arrow:hover:before {color: black;}#sk-container-id-2 div.sk-estimator:hover label.sk-toggleable__label-arrow:before {color: black;}#sk-container-id-2 div.sk-toggleable__content {max-height: 0;max-width: 0;overflow: hidden;text-align: left;background-color: #f0f8ff;}#sk-container-id-2 div.sk-toggleable__content pre {margin: 0.2em;color: black;border-radius: 0.25em;background-color: #f0f8ff;}#sk-container-id-2 input.sk-toggleable__control:checked~div.sk-toggleable__content {max-height: 200px;max-width: 100%;overflow: auto;}#sk-container-id-2 input.sk-toggleable__control:checked~label.sk-toggleable__label-arrow:before {content: \"▾\";}#sk-container-id-2 div.sk-estimator input.sk-toggleable__control:checked~label.sk-toggleable__label {background-color: #d4ebff;}#sk-container-id-2 div.sk-label input.sk-toggleable__control:checked~label.sk-toggleable__label {background-color: #d4ebff;}#sk-container-id-2 input.sk-hidden--visually {border: 0;clip: rect(1px 1px 1px 1px);clip: rect(1px, 1px, 1px, 1px);height: 1px;margin: -1px;overflow: hidden;padding: 0;position: absolute;width: 1px;}#sk-container-id-2 div.sk-estimator {font-family: monospace;background-color: #f0f8ff;border: 1px dotted black;border-radius: 0.25em;box-sizing: border-box;margin-bottom: 0.5em;}#sk-container-id-2 div.sk-estimator:hover {background-color: #d4ebff;}#sk-container-id-2 div.sk-parallel-item::after {content: \"\";width: 100%;border-bottom: 1px solid gray;flex-grow: 1;}#sk-container-id-2 div.sk-label:hover label.sk-toggleable__label {background-color: #d4ebff;}#sk-container-id-2 div.sk-serial::before {content: \"\";position: absolute;border-left: 1px solid gray;box-sizing: border-box;top: 0;bottom: 0;left: 50%;z-index: 0;}#sk-container-id-2 div.sk-serial {display: flex;flex-direction: column;align-items: center;background-color: white;padding-right: 0.2em;padding-left: 0.2em;position: relative;}#sk-container-id-2 div.sk-item {position: relative;z-index: 1;}#sk-container-id-2 div.sk-parallel {display: flex;align-items: stretch;justify-content: center;background-color: white;position: relative;}#sk-container-id-2 div.sk-item::before, #sk-container-id-2 div.sk-parallel-item::before {content: \"\";position: absolute;border-left: 1px solid gray;box-sizing: border-box;top: 0;bottom: 0;left: 50%;z-index: -1;}#sk-container-id-2 div.sk-parallel-item {display: flex;flex-direction: column;z-index: 1;position: relative;background-color: white;}#sk-container-id-2 div.sk-parallel-item:first-child::after {align-self: flex-end;width: 50%;}#sk-container-id-2 div.sk-parallel-item:last-child::after {align-self: flex-start;width: 50%;}#sk-container-id-2 div.sk-parallel-item:only-child::after {width: 0;}#sk-container-id-2 div.sk-dashed-wrapped {border: 1px dashed gray;margin: 0 0.4em 0.5em 0.4em;box-sizing: border-box;padding-bottom: 0.4em;background-color: white;}#sk-container-id-2 div.sk-label label {font-family: monospace;font-weight: bold;display: inline-block;line-height: 1.2em;}#sk-container-id-2 div.sk-label-container {text-align: center;}#sk-container-id-2 div.sk-container {/* jupyter's `normalize.less` sets `[hidden] { display: none; }` but bootstrap.min.css set `[hidden] { display: none !important; }` so we also need the `!important` here to be able to override the default hidden behavior on the sphinx rendered scikit-learn.org. See: https://github.com/scikit-learn/scikit-learn/issues/21755 */display: inline-block !important;position: relative;}#sk-container-id-2 div.sk-text-repr-fallback {display: none;}</style><div id=\"sk-container-id-2\" class=\"sk-top-container\"><div class=\"sk-text-repr-fallback\"><pre>Lasso()</pre><b>In a Jupyter environment, please rerun this cell to show the HTML representation or trust the notebook. <br />On GitHub, the HTML representation is unable to render, please try loading this page with nbviewer.org.</b></div><div class=\"sk-container\" hidden><div class=\"sk-item\"><div class=\"sk-estimator sk-toggleable\"><input class=\"sk-toggleable__control sk-hidden--visually\" id=\"sk-estimator-id-2\" type=\"checkbox\" checked><label for=\"sk-estimator-id-2\" class=\"sk-toggleable__label sk-toggleable__label-arrow\">Lasso</label><div class=\"sk-toggleable__content\"><pre>Lasso()</pre></div></div></div></div></div>"
      ],
      "text/plain": [
       "Lasso()"
      ]
     },
     "execution_count": 83,
     "metadata": {},
     "output_type": "execute_result"
    }
   ],
   "source": [
    "lasso.fit(X_train,Y_train)"
   ]
  },
  {
   "cell_type": "code",
   "execution_count": 84,
   "id": "af8f73e2",
   "metadata": {},
   "outputs": [],
   "source": [
    "y_pred_lasso=lasso.predict(X_test)"
   ]
  },
  {
   "cell_type": "code",
   "execution_count": 85,
   "id": "ef063e8d",
   "metadata": {},
   "outputs": [
    {
     "data": {
      "text/plain": [
       "0.516873126221396"
      ]
     },
     "execution_count": 85,
     "metadata": {},
     "output_type": "execute_result"
    }
   ],
   "source": [
    "r2_score(Y_test,y_pred_lasso)"
   ]
  },
  {
   "cell_type": "code",
   "execution_count": 86,
   "id": "49d5a636",
   "metadata": {},
   "outputs": [],
   "source": [
    "elasticnet=ElasticNet()"
   ]
  },
  {
   "cell_type": "code",
   "execution_count": 87,
   "id": "46c23243",
   "metadata": {},
   "outputs": [
    {
     "data": {
      "text/html": [
       "<style>#sk-container-id-3 {color: black;background-color: white;}#sk-container-id-3 pre{padding: 0;}#sk-container-id-3 div.sk-toggleable {background-color: white;}#sk-container-id-3 label.sk-toggleable__label {cursor: pointer;display: block;width: 100%;margin-bottom: 0;padding: 0.3em;box-sizing: border-box;text-align: center;}#sk-container-id-3 label.sk-toggleable__label-arrow:before {content: \"▸\";float: left;margin-right: 0.25em;color: #696969;}#sk-container-id-3 label.sk-toggleable__label-arrow:hover:before {color: black;}#sk-container-id-3 div.sk-estimator:hover label.sk-toggleable__label-arrow:before {color: black;}#sk-container-id-3 div.sk-toggleable__content {max-height: 0;max-width: 0;overflow: hidden;text-align: left;background-color: #f0f8ff;}#sk-container-id-3 div.sk-toggleable__content pre {margin: 0.2em;color: black;border-radius: 0.25em;background-color: #f0f8ff;}#sk-container-id-3 input.sk-toggleable__control:checked~div.sk-toggleable__content {max-height: 200px;max-width: 100%;overflow: auto;}#sk-container-id-3 input.sk-toggleable__control:checked~label.sk-toggleable__label-arrow:before {content: \"▾\";}#sk-container-id-3 div.sk-estimator input.sk-toggleable__control:checked~label.sk-toggleable__label {background-color: #d4ebff;}#sk-container-id-3 div.sk-label input.sk-toggleable__control:checked~label.sk-toggleable__label {background-color: #d4ebff;}#sk-container-id-3 input.sk-hidden--visually {border: 0;clip: rect(1px 1px 1px 1px);clip: rect(1px, 1px, 1px, 1px);height: 1px;margin: -1px;overflow: hidden;padding: 0;position: absolute;width: 1px;}#sk-container-id-3 div.sk-estimator {font-family: monospace;background-color: #f0f8ff;border: 1px dotted black;border-radius: 0.25em;box-sizing: border-box;margin-bottom: 0.5em;}#sk-container-id-3 div.sk-estimator:hover {background-color: #d4ebff;}#sk-container-id-3 div.sk-parallel-item::after {content: \"\";width: 100%;border-bottom: 1px solid gray;flex-grow: 1;}#sk-container-id-3 div.sk-label:hover label.sk-toggleable__label {background-color: #d4ebff;}#sk-container-id-3 div.sk-serial::before {content: \"\";position: absolute;border-left: 1px solid gray;box-sizing: border-box;top: 0;bottom: 0;left: 50%;z-index: 0;}#sk-container-id-3 div.sk-serial {display: flex;flex-direction: column;align-items: center;background-color: white;padding-right: 0.2em;padding-left: 0.2em;position: relative;}#sk-container-id-3 div.sk-item {position: relative;z-index: 1;}#sk-container-id-3 div.sk-parallel {display: flex;align-items: stretch;justify-content: center;background-color: white;position: relative;}#sk-container-id-3 div.sk-item::before, #sk-container-id-3 div.sk-parallel-item::before {content: \"\";position: absolute;border-left: 1px solid gray;box-sizing: border-box;top: 0;bottom: 0;left: 50%;z-index: -1;}#sk-container-id-3 div.sk-parallel-item {display: flex;flex-direction: column;z-index: 1;position: relative;background-color: white;}#sk-container-id-3 div.sk-parallel-item:first-child::after {align-self: flex-end;width: 50%;}#sk-container-id-3 div.sk-parallel-item:last-child::after {align-self: flex-start;width: 50%;}#sk-container-id-3 div.sk-parallel-item:only-child::after {width: 0;}#sk-container-id-3 div.sk-dashed-wrapped {border: 1px dashed gray;margin: 0 0.4em 0.5em 0.4em;box-sizing: border-box;padding-bottom: 0.4em;background-color: white;}#sk-container-id-3 div.sk-label label {font-family: monospace;font-weight: bold;display: inline-block;line-height: 1.2em;}#sk-container-id-3 div.sk-label-container {text-align: center;}#sk-container-id-3 div.sk-container {/* jupyter's `normalize.less` sets `[hidden] { display: none; }` but bootstrap.min.css set `[hidden] { display: none !important; }` so we also need the `!important` here to be able to override the default hidden behavior on the sphinx rendered scikit-learn.org. See: https://github.com/scikit-learn/scikit-learn/issues/21755 */display: inline-block !important;position: relative;}#sk-container-id-3 div.sk-text-repr-fallback {display: none;}</style><div id=\"sk-container-id-3\" class=\"sk-top-container\"><div class=\"sk-text-repr-fallback\"><pre>ElasticNet()</pre><b>In a Jupyter environment, please rerun this cell to show the HTML representation or trust the notebook. <br />On GitHub, the HTML representation is unable to render, please try loading this page with nbviewer.org.</b></div><div class=\"sk-container\" hidden><div class=\"sk-item\"><div class=\"sk-estimator sk-toggleable\"><input class=\"sk-toggleable__control sk-hidden--visually\" id=\"sk-estimator-id-3\" type=\"checkbox\" checked><label for=\"sk-estimator-id-3\" class=\"sk-toggleable__label sk-toggleable__label-arrow\">ElasticNet</label><div class=\"sk-toggleable__content\"><pre>ElasticNet()</pre></div></div></div></div></div>"
      ],
      "text/plain": [
       "ElasticNet()"
      ]
     },
     "execution_count": 87,
     "metadata": {},
     "output_type": "execute_result"
    }
   ],
   "source": [
    "elasticnet.fit(X_train,Y_train)"
   ]
  },
  {
   "cell_type": "code",
   "execution_count": 88,
   "id": "065276d1",
   "metadata": {},
   "outputs": [],
   "source": [
    "y_pred_elasticnet=elasticnet.predict(X_test)"
   ]
  },
  {
   "cell_type": "code",
   "execution_count": 89,
   "id": "74b7276d",
   "metadata": {},
   "outputs": [
    {
     "data": {
      "text/plain": [
       "-0.003841008457175832"
      ]
     },
     "execution_count": 89,
     "metadata": {},
     "output_type": "execute_result"
    }
   ],
   "source": [
    "r2_score(Y_test,y_pred_elasticnet)"
   ]
  }
 ],
 "metadata": {
  "kernelspec": {
   "display_name": "Python 3 (ipykernel)",
   "language": "python",
   "name": "python3"
  },
  "language_info": {
   "codemirror_mode": {
    "name": "ipython",
    "version": 3
   },
   "file_extension": ".py",
   "mimetype": "text/x-python",
   "name": "python",
   "nbconvert_exporter": "python",
   "pygments_lexer": "ipython3",
   "version": "3.10.2"
  }
 },
 "nbformat": 4,
 "nbformat_minor": 5
}
